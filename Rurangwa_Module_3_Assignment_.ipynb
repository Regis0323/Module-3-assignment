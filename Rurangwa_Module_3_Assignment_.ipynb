{
  "cells": [
    {
      "cell_type": "markdown",
      "source": [
        "<div style=\"background-color: #004B87; padding: 20px; text-align: center; border-radius: 10px; color: white; font-family: Arial, sans-serif; margin: auto; width: 80%;\">\n",
        "    <h1>Module 3 Assignment</h1>\n",
        "    <h2>RURANGWA IRADUKUNDA Jean-François Régis</h2>\n",
        "    <h3>September 7, 2025</h3>\n",
        "    <p>Email : jeanfrancoisregis.rurangwairadukunda@axa.be</p>\n",
        "</div>"
      ],
      "metadata": {
        "id": "xcKz6uU8Ce7X"
      },
      "id": "xcKz6uU8Ce7X"
    },
    {
      "cell_type": "markdown",
      "id": "516ee1d7-d4a0-4378-9a73-ff977fe061e6",
      "metadata": {
        "id": "516ee1d7-d4a0-4378-9a73-ff977fe061e6"
      },
      "source": [
        "# Introduction\n",
        "\n",
        "\n",
        "Following the 'Actuarial Data Scientist' program offered by the Belgian association of actuaries (IABE), we are assessed an assignment that builds on the foundational concepts learned in the third and last module.\n",
        "<br/>\n",
        "This assignment involves analyzing the \"eusavingULnoPS\" dataset which is based on unit-linked saving products, with no profit sharing, sold in an unknown European country. Those insurance policies are observed between 1999 and 2008, with entries and exits possible.\n",
        "<br/>\n",
        "\n",
        "In this analysis, we will focus on developing classification and regression models for specific targets, applying feature selection techniques, and implementing explainability and fairness assessments.\n",
        "<br/>\n",
        "The objective is to provide actionable insights into the factors influencing policy lapses and risk premium proportions, ensuring the models are transparent, fair, and robust."
      ]
    },
    {
      "cell_type": "markdown",
      "id": "EUzqdV0xOgZZ",
      "metadata": {
        "id": "EUzqdV0xOgZZ"
      },
      "source": [
        "## Importing packages <a name=\"Importing_packages\"></a>\n",
        "\n",
        "Our first step is to import and load the packages that will be necessary in our task.\n"
      ]
    },
    {
      "cell_type": "code",
      "source": [
        "from ipywidgets import Widget\n",
        "Widget.widgets = {}  # Reset all widget states"
      ],
      "metadata": {
        "id": "bxuNTblM26dN"
      },
      "id": "bxuNTblM26dN",
      "execution_count": 48,
      "outputs": []
    },
    {
      "cell_type": "code",
      "execution_count": null,
      "id": "YuP6mnV0_mJi",
      "metadata": {
        "id": "YuP6mnV0_mJi",
        "collapsed": true
      },
      "outputs": [],
      "source": [
        "## Perform these pip installs in the command prompt, with your python kernel activated\n",
        "!pip install shap\n",
        "!pip install tensorflow\n",
        "!pip install shapicant\n",
        "!pip install scikeras\n",
        "!pip install mlflow\n",
        "!pip install evidently\n",
        "!pip install boruta\n",
        "!pip install pandas scikit-learn deap\n",
        "!pip install aif360\n",
        "\n",
        "!git clone https://github.com/Regis0323/Module-3-assignment.git\n",
        "!pip install scikit-fuzzy"
      ]
    },
    {
      "cell_type": "code",
      "execution_count": null,
      "id": "9b658fa8-eb1f-42b4-8178-42687d0f6f95",
      "metadata": {
        "id": "9b658fa8-eb1f-42b4-8178-42687d0f6f95",
        "tags": [],
        "collapsed": true
      },
      "outputs": [],
      "source": [
        "# 1. SETUP: load libraries & data\n",
        "import numpy as np\n",
        "import pandas as pd\n",
        "import matplotlib.pyplot as plt\n",
        "\n",
        "# Data preprocesing and models\n",
        "from sklearn.model_selection import train_test_split, cross_val_score, RandomizedSearchCV\n",
        "from sklearn.linear_model import LassoCV, Lasso\n",
        "from sklearn.ensemble import RandomForestRegressor\n",
        "from sklearn.ensemble import RandomForestClassifier\n",
        "from sklearn.compose import ColumnTransformer\n",
        "from sklearn.preprocessing import StandardScaler, OneHotEncoder\n",
        "from sklearn.pipeline import Pipeline\n",
        "from sklearn.preprocessing import LabelEncoder\n",
        "import tensorflow as tf\n",
        "from tensorflow.keras import layers, models\n",
        "from sklearn.metrics import classification_report\n",
        "\n",
        "# MLFlow\n",
        "import mlflow\n",
        "import cloudpickle\n",
        "from evidently import Dataset\n",
        "from evidently import DataDefinition\n",
        "from evidently import Report\n",
        "from evidently.presets import DataDriftPreset, DataSummaryPreset\n",
        "\n",
        "# Feature selection and explainability of the model\n",
        "from mlxtend.feature_selection import SequentialFeatureSelector\n",
        "from sklearn.linear_model import LinearRegression\n",
        "from sklearn.inspection import permutation_importance\n",
        "from boruta import BorutaPy\n",
        "from deap import base, creator, tools, algorithms\n",
        "import random\n",
        "\n",
        "# Bias mitigation\n",
        "from aif360.datasets import StandardDataset, BinaryLabelDataset\n",
        "from aif360.metrics import BinaryLabelDatasetMetric, ClassificationMetric\n",
        "from aif360.algorithms.preprocessing.optim_preproc_helpers.opt_tools import OptTools\n",
        "from aif360.algorithms.preprocessing import Reweighing, OptimPreproc\n",
        "from aif360.algorithms.inprocessing import MetaFairClassifier, AdversarialDebiasing\n",
        "from aif360.algorithms.postprocessing import RejectOptionClassification, EqOddsPostprocessing\n",
        "\n"
      ]
    },
    {
      "cell_type": "markdown",
      "id": "2W8hGUD_Pb7q",
      "metadata": {
        "id": "2W8hGUD_Pb7q"
      },
      "source": [
        "# Data exploration and preoprocessing\n"
      ]
    },
    {
      "cell_type": "markdown",
      "source": [
        "Then we load the dataset and get its specificities."
      ],
      "metadata": {
        "id": "Fix3fVKMTmvF"
      },
      "id": "Fix3fVKMTmvF"
    },
    {
      "cell_type": "code",
      "execution_count": null,
      "id": "3f6e45e6-3c45-4ceb-8db7-130c4a5f9d2d",
      "metadata": {
        "id": "3f6e45e6-3c45-4ceb-8db7-130c4a5f9d2d",
        "colab": {
          "base_uri": "https://localhost:8080/",
          "height": 325
        },
        "outputId": "d0cf4480-1b26-423d-979f-25fc1f9def67"
      },
      "outputs": [
        {
          "output_type": "display_data",
          "data": {
            "text/plain": [
              "  policy.ID  issue.date termination.date lapse.reason premium.frequency  \\\n",
              "0        N1  1999-01-01       2006-04-01        Claim            unique   \n",
              "1        N2  1999-01-01       2006-04-01        Claim            unique   \n",
              "2        N3  1999-01-01       2005-04-01    Surrender            unique   \n",
              "3        N4  1999-01-01       2003-02-01    Surrender            unique   \n",
              "4        N5  1999-01-01       2008-01-01     In force            unique   \n",
              "\n",
              "   gender  underwriting.age  face.amount  risk.premium  saving.premium  ...  \\\n",
              "0    Male                77      2979.53        265.86        29795.27  ...   \n",
              "1    Male                77      3039.71        271.23        30397.16  ...   \n",
              "2  Female                72      2994.12         80.43        35929.44  ...   \n",
              "3    Male                35      3051.10          7.50        30511.01  ...   \n",
              "4    Male                40      5810.21         81.39        58102.11  ...   \n",
              "\n",
              "   rate2Y.relvar1mth  rate2Y.relvar1qtr  rate10Y.relvar1mth  \\\n",
              "0           0.086310           0.184211            0.081598   \n",
              "1           0.086310           0.184211            0.081598   \n",
              "2          -0.025391          -0.018489           -0.023343   \n",
              "3          -0.041762          -0.133838           -0.038309   \n",
              "4           0.037712          -0.004430            0.025938   \n",
              "\n",
              "   rate10Y.relvar1qtr  unemploy.relvar1mth  unemploy.relvar1qtr  \\\n",
              "0            0.144626            -0.011494            -0.011494   \n",
              "1            0.144626            -0.011494            -0.011494   \n",
              "2           -0.018868            -0.010309            -0.040816   \n",
              "3           -0.039273             0.000000            -0.008850   \n",
              "4           -0.002027             0.022727             0.069767   \n",
              "\n",
              "   industry.relvar1mth  industry.relvar1qtr  RTV.relvar1mth  RTV.relvar1qtr  \n",
              "0            -0.000979             0.016699        0.005941        0.006931  \n",
              "1            -0.000979             0.016699        0.005941        0.006931  \n",
              "2             0.001000             0.003024        0.002002        0.000998  \n",
              "3            -0.003067             0.000000        0.009524        0.009574  \n",
              "4             0.001876             0.000941       -0.011550       -0.026692  \n",
              "\n",
              "[5 rows x 30 columns]"
            ],
            "text/html": [
              "\n",
              "  <div id=\"df-caab8718-abed-4c02-aea8-2ad2c39b773e\" class=\"colab-df-container\">\n",
              "    <div>\n",
              "<style scoped>\n",
              "    .dataframe tbody tr th:only-of-type {\n",
              "        vertical-align: middle;\n",
              "    }\n",
              "\n",
              "    .dataframe tbody tr th {\n",
              "        vertical-align: top;\n",
              "    }\n",
              "\n",
              "    .dataframe thead th {\n",
              "        text-align: right;\n",
              "    }\n",
              "</style>\n",
              "<table border=\"1\" class=\"dataframe\">\n",
              "  <thead>\n",
              "    <tr style=\"text-align: right;\">\n",
              "      <th></th>\n",
              "      <th>policy.ID</th>\n",
              "      <th>issue.date</th>\n",
              "      <th>termination.date</th>\n",
              "      <th>lapse.reason</th>\n",
              "      <th>premium.frequency</th>\n",
              "      <th>gender</th>\n",
              "      <th>underwriting.age</th>\n",
              "      <th>face.amount</th>\n",
              "      <th>risk.premium</th>\n",
              "      <th>saving.premium</th>\n",
              "      <th>...</th>\n",
              "      <th>rate2Y.relvar1mth</th>\n",
              "      <th>rate2Y.relvar1qtr</th>\n",
              "      <th>rate10Y.relvar1mth</th>\n",
              "      <th>rate10Y.relvar1qtr</th>\n",
              "      <th>unemploy.relvar1mth</th>\n",
              "      <th>unemploy.relvar1qtr</th>\n",
              "      <th>industry.relvar1mth</th>\n",
              "      <th>industry.relvar1qtr</th>\n",
              "      <th>RTV.relvar1mth</th>\n",
              "      <th>RTV.relvar1qtr</th>\n",
              "    </tr>\n",
              "  </thead>\n",
              "  <tbody>\n",
              "    <tr>\n",
              "      <th>0</th>\n",
              "      <td>N1</td>\n",
              "      <td>1999-01-01</td>\n",
              "      <td>2006-04-01</td>\n",
              "      <td>Claim</td>\n",
              "      <td>unique</td>\n",
              "      <td>Male</td>\n",
              "      <td>77</td>\n",
              "      <td>2979.53</td>\n",
              "      <td>265.86</td>\n",
              "      <td>29795.27</td>\n",
              "      <td>...</td>\n",
              "      <td>0.086310</td>\n",
              "      <td>0.184211</td>\n",
              "      <td>0.081598</td>\n",
              "      <td>0.144626</td>\n",
              "      <td>-0.011494</td>\n",
              "      <td>-0.011494</td>\n",
              "      <td>-0.000979</td>\n",
              "      <td>0.016699</td>\n",
              "      <td>0.005941</td>\n",
              "      <td>0.006931</td>\n",
              "    </tr>\n",
              "    <tr>\n",
              "      <th>1</th>\n",
              "      <td>N2</td>\n",
              "      <td>1999-01-01</td>\n",
              "      <td>2006-04-01</td>\n",
              "      <td>Claim</td>\n",
              "      <td>unique</td>\n",
              "      <td>Male</td>\n",
              "      <td>77</td>\n",
              "      <td>3039.71</td>\n",
              "      <td>271.23</td>\n",
              "      <td>30397.16</td>\n",
              "      <td>...</td>\n",
              "      <td>0.086310</td>\n",
              "      <td>0.184211</td>\n",
              "      <td>0.081598</td>\n",
              "      <td>0.144626</td>\n",
              "      <td>-0.011494</td>\n",
              "      <td>-0.011494</td>\n",
              "      <td>-0.000979</td>\n",
              "      <td>0.016699</td>\n",
              "      <td>0.005941</td>\n",
              "      <td>0.006931</td>\n",
              "    </tr>\n",
              "    <tr>\n",
              "      <th>2</th>\n",
              "      <td>N3</td>\n",
              "      <td>1999-01-01</td>\n",
              "      <td>2005-04-01</td>\n",
              "      <td>Surrender</td>\n",
              "      <td>unique</td>\n",
              "      <td>Female</td>\n",
              "      <td>72</td>\n",
              "      <td>2994.12</td>\n",
              "      <td>80.43</td>\n",
              "      <td>35929.44</td>\n",
              "      <td>...</td>\n",
              "      <td>-0.025391</td>\n",
              "      <td>-0.018489</td>\n",
              "      <td>-0.023343</td>\n",
              "      <td>-0.018868</td>\n",
              "      <td>-0.010309</td>\n",
              "      <td>-0.040816</td>\n",
              "      <td>0.001000</td>\n",
              "      <td>0.003024</td>\n",
              "      <td>0.002002</td>\n",
              "      <td>0.000998</td>\n",
              "    </tr>\n",
              "    <tr>\n",
              "      <th>3</th>\n",
              "      <td>N4</td>\n",
              "      <td>1999-01-01</td>\n",
              "      <td>2003-02-01</td>\n",
              "      <td>Surrender</td>\n",
              "      <td>unique</td>\n",
              "      <td>Male</td>\n",
              "      <td>35</td>\n",
              "      <td>3051.10</td>\n",
              "      <td>7.50</td>\n",
              "      <td>30511.01</td>\n",
              "      <td>...</td>\n",
              "      <td>-0.041762</td>\n",
              "      <td>-0.133838</td>\n",
              "      <td>-0.038309</td>\n",
              "      <td>-0.039273</td>\n",
              "      <td>0.000000</td>\n",
              "      <td>-0.008850</td>\n",
              "      <td>-0.003067</td>\n",
              "      <td>0.000000</td>\n",
              "      <td>0.009524</td>\n",
              "      <td>0.009574</td>\n",
              "    </tr>\n",
              "    <tr>\n",
              "      <th>4</th>\n",
              "      <td>N5</td>\n",
              "      <td>1999-01-01</td>\n",
              "      <td>2008-01-01</td>\n",
              "      <td>In force</td>\n",
              "      <td>unique</td>\n",
              "      <td>Male</td>\n",
              "      <td>40</td>\n",
              "      <td>5810.21</td>\n",
              "      <td>81.39</td>\n",
              "      <td>58102.11</td>\n",
              "      <td>...</td>\n",
              "      <td>0.037712</td>\n",
              "      <td>-0.004430</td>\n",
              "      <td>0.025938</td>\n",
              "      <td>-0.002027</td>\n",
              "      <td>0.022727</td>\n",
              "      <td>0.069767</td>\n",
              "      <td>0.001876</td>\n",
              "      <td>0.000941</td>\n",
              "      <td>-0.011550</td>\n",
              "      <td>-0.026692</td>\n",
              "    </tr>\n",
              "  </tbody>\n",
              "</table>\n",
              "<p>5 rows × 30 columns</p>\n",
              "</div>\n",
              "    <div class=\"colab-df-buttons\">\n",
              "\n",
              "  <div class=\"colab-df-container\">\n",
              "    <button class=\"colab-df-convert\" onclick=\"convertToInteractive('df-caab8718-abed-4c02-aea8-2ad2c39b773e')\"\n",
              "            title=\"Convert this dataframe to an interactive table.\"\n",
              "            style=\"display:none;\">\n",
              "\n",
              "  <svg xmlns=\"http://www.w3.org/2000/svg\" height=\"24px\" viewBox=\"0 -960 960 960\">\n",
              "    <path d=\"M120-120v-720h720v720H120Zm60-500h600v-160H180v160Zm220 220h160v-160H400v160Zm0 220h160v-160H400v160ZM180-400h160v-160H180v160Zm440 0h160v-160H620v160ZM180-180h160v-160H180v160Zm440 0h160v-160H620v160Z\"/>\n",
              "  </svg>\n",
              "    </button>\n",
              "\n",
              "  <style>\n",
              "    .colab-df-container {\n",
              "      display:flex;\n",
              "      gap: 12px;\n",
              "    }\n",
              "\n",
              "    .colab-df-convert {\n",
              "      background-color: #E8F0FE;\n",
              "      border: none;\n",
              "      border-radius: 50%;\n",
              "      cursor: pointer;\n",
              "      display: none;\n",
              "      fill: #1967D2;\n",
              "      height: 32px;\n",
              "      padding: 0 0 0 0;\n",
              "      width: 32px;\n",
              "    }\n",
              "\n",
              "    .colab-df-convert:hover {\n",
              "      background-color: #E2EBFA;\n",
              "      box-shadow: 0px 1px 2px rgba(60, 64, 67, 0.3), 0px 1px 3px 1px rgba(60, 64, 67, 0.15);\n",
              "      fill: #174EA6;\n",
              "    }\n",
              "\n",
              "    .colab-df-buttons div {\n",
              "      margin-bottom: 4px;\n",
              "    }\n",
              "\n",
              "    [theme=dark] .colab-df-convert {\n",
              "      background-color: #3B4455;\n",
              "      fill: #D2E3FC;\n",
              "    }\n",
              "\n",
              "    [theme=dark] .colab-df-convert:hover {\n",
              "      background-color: #434B5C;\n",
              "      box-shadow: 0px 1px 3px 1px rgba(0, 0, 0, 0.15);\n",
              "      filter: drop-shadow(0px 1px 2px rgba(0, 0, 0, 0.3));\n",
              "      fill: #FFFFFF;\n",
              "    }\n",
              "  </style>\n",
              "\n",
              "    <script>\n",
              "      const buttonEl =\n",
              "        document.querySelector('#df-caab8718-abed-4c02-aea8-2ad2c39b773e button.colab-df-convert');\n",
              "      buttonEl.style.display =\n",
              "        google.colab.kernel.accessAllowed ? 'block' : 'none';\n",
              "\n",
              "      async function convertToInteractive(key) {\n",
              "        const element = document.querySelector('#df-caab8718-abed-4c02-aea8-2ad2c39b773e');\n",
              "        const dataTable =\n",
              "          await google.colab.kernel.invokeFunction('convertToInteractive',\n",
              "                                                    [key], {});\n",
              "        if (!dataTable) return;\n",
              "\n",
              "        const docLinkHtml = 'Like what you see? Visit the ' +\n",
              "          '<a target=\"_blank\" href=https://colab.research.google.com/notebooks/data_table.ipynb>data table notebook</a>'\n",
              "          + ' to learn more about interactive tables.';\n",
              "        element.innerHTML = '';\n",
              "        dataTable['output_type'] = 'display_data';\n",
              "        await google.colab.output.renderOutput(dataTable, element);\n",
              "        const docLink = document.createElement('div');\n",
              "        docLink.innerHTML = docLinkHtml;\n",
              "        element.appendChild(docLink);\n",
              "      }\n",
              "    </script>\n",
              "  </div>\n",
              "\n",
              "\n",
              "    <div id=\"df-9c47dec6-3420-44a1-8622-9048647654c3\">\n",
              "      <button class=\"colab-df-quickchart\" onclick=\"quickchart('df-9c47dec6-3420-44a1-8622-9048647654c3')\"\n",
              "                title=\"Suggest charts\"\n",
              "                style=\"display:none;\">\n",
              "\n",
              "<svg xmlns=\"http://www.w3.org/2000/svg\" height=\"24px\"viewBox=\"0 0 24 24\"\n",
              "     width=\"24px\">\n",
              "    <g>\n",
              "        <path d=\"M19 3H5c-1.1 0-2 .9-2 2v14c0 1.1.9 2 2 2h14c1.1 0 2-.9 2-2V5c0-1.1-.9-2-2-2zM9 17H7v-7h2v7zm4 0h-2V7h2v10zm4 0h-2v-4h2v4z\"/>\n",
              "    </g>\n",
              "</svg>\n",
              "      </button>\n",
              "\n",
              "<style>\n",
              "  .colab-df-quickchart {\n",
              "      --bg-color: #E8F0FE;\n",
              "      --fill-color: #1967D2;\n",
              "      --hover-bg-color: #E2EBFA;\n",
              "      --hover-fill-color: #174EA6;\n",
              "      --disabled-fill-color: #AAA;\n",
              "      --disabled-bg-color: #DDD;\n",
              "  }\n",
              "\n",
              "  [theme=dark] .colab-df-quickchart {\n",
              "      --bg-color: #3B4455;\n",
              "      --fill-color: #D2E3FC;\n",
              "      --hover-bg-color: #434B5C;\n",
              "      --hover-fill-color: #FFFFFF;\n",
              "      --disabled-bg-color: #3B4455;\n",
              "      --disabled-fill-color: #666;\n",
              "  }\n",
              "\n",
              "  .colab-df-quickchart {\n",
              "    background-color: var(--bg-color);\n",
              "    border: none;\n",
              "    border-radius: 50%;\n",
              "    cursor: pointer;\n",
              "    display: none;\n",
              "    fill: var(--fill-color);\n",
              "    height: 32px;\n",
              "    padding: 0;\n",
              "    width: 32px;\n",
              "  }\n",
              "\n",
              "  .colab-df-quickchart:hover {\n",
              "    background-color: var(--hover-bg-color);\n",
              "    box-shadow: 0 1px 2px rgba(60, 64, 67, 0.3), 0 1px 3px 1px rgba(60, 64, 67, 0.15);\n",
              "    fill: var(--button-hover-fill-color);\n",
              "  }\n",
              "\n",
              "  .colab-df-quickchart-complete:disabled,\n",
              "  .colab-df-quickchart-complete:disabled:hover {\n",
              "    background-color: var(--disabled-bg-color);\n",
              "    fill: var(--disabled-fill-color);\n",
              "    box-shadow: none;\n",
              "  }\n",
              "\n",
              "  .colab-df-spinner {\n",
              "    border: 2px solid var(--fill-color);\n",
              "    border-color: transparent;\n",
              "    border-bottom-color: var(--fill-color);\n",
              "    animation:\n",
              "      spin 1s steps(1) infinite;\n",
              "  }\n",
              "\n",
              "  @keyframes spin {\n",
              "    0% {\n",
              "      border-color: transparent;\n",
              "      border-bottom-color: var(--fill-color);\n",
              "      border-left-color: var(--fill-color);\n",
              "    }\n",
              "    20% {\n",
              "      border-color: transparent;\n",
              "      border-left-color: var(--fill-color);\n",
              "      border-top-color: var(--fill-color);\n",
              "    }\n",
              "    30% {\n",
              "      border-color: transparent;\n",
              "      border-left-color: var(--fill-color);\n",
              "      border-top-color: var(--fill-color);\n",
              "      border-right-color: var(--fill-color);\n",
              "    }\n",
              "    40% {\n",
              "      border-color: transparent;\n",
              "      border-right-color: var(--fill-color);\n",
              "      border-top-color: var(--fill-color);\n",
              "    }\n",
              "    60% {\n",
              "      border-color: transparent;\n",
              "      border-right-color: var(--fill-color);\n",
              "    }\n",
              "    80% {\n",
              "      border-color: transparent;\n",
              "      border-right-color: var(--fill-color);\n",
              "      border-bottom-color: var(--fill-color);\n",
              "    }\n",
              "    90% {\n",
              "      border-color: transparent;\n",
              "      border-bottom-color: var(--fill-color);\n",
              "    }\n",
              "  }\n",
              "</style>\n",
              "\n",
              "      <script>\n",
              "        async function quickchart(key) {\n",
              "          const quickchartButtonEl =\n",
              "            document.querySelector('#' + key + ' button');\n",
              "          quickchartButtonEl.disabled = true;  // To prevent multiple clicks.\n",
              "          quickchartButtonEl.classList.add('colab-df-spinner');\n",
              "          try {\n",
              "            const charts = await google.colab.kernel.invokeFunction(\n",
              "                'suggestCharts', [key], {});\n",
              "          } catch (error) {\n",
              "            console.error('Error during call to suggestCharts:', error);\n",
              "          }\n",
              "          quickchartButtonEl.classList.remove('colab-df-spinner');\n",
              "          quickchartButtonEl.classList.add('colab-df-quickchart-complete');\n",
              "        }\n",
              "        (() => {\n",
              "          let quickchartButtonEl =\n",
              "            document.querySelector('#df-9c47dec6-3420-44a1-8622-9048647654c3 button');\n",
              "          quickchartButtonEl.style.display =\n",
              "            google.colab.kernel.accessAllowed ? 'block' : 'none';\n",
              "        })();\n",
              "      </script>\n",
              "    </div>\n",
              "\n",
              "    </div>\n",
              "  </div>\n"
            ],
            "application/vnd.google.colaboratory.intrinsic+json": {
              "type": "dataframe"
            }
          },
          "metadata": {}
        },
        {
          "output_type": "stream",
          "name": "stdout",
          "text": [
            "float64    23\n",
            "object      6\n",
            "int64       1\n",
            "Name: count, dtype: int64\n"
          ]
        }
      ],
      "source": [
        "# Load\n",
        "df = pd.read_csv(\"/content/Module-3-assignment/eusavingULnoPS.csv\")\n",
        "display(df.head())\n",
        "print(df.dtypes.value_counts())"
      ]
    },
    {
      "cell_type": "markdown",
      "id": "k9dGsrG-axlE",
      "metadata": {
        "id": "k9dGsrG-axlE"
      },
      "source": [
        "Our dataset is composed of 30 columns, of which 6 are categorized as 'object', 1 as 64-bit 'integer' (int64) and 23 as 64-bit 'floating-point' (float64) numbers.\n",
        "<br>\n",
        "We shall now check for missing and/or duplicated values before treating them accordingly if any."
      ]
    },
    {
      "cell_type": "code",
      "execution_count": null,
      "id": "r24UfL7G7M7e",
      "metadata": {
        "id": "r24UfL7G7M7e",
        "collapsed": true,
        "colab": {
          "base_uri": "https://localhost:8080/"
        },
        "outputId": "426bd777-9fa0-463a-f47c-f18c110e4056"
      },
      "outputs": [
        {
          "output_type": "stream",
          "name": "stdout",
          "text": [
            "policy.ID              0\n",
            "issue.date             0\n",
            "termination.date       0\n",
            "lapse.reason           0\n",
            "premium.frequency      0\n",
            "gender                 0\n",
            "underwriting.age       0\n",
            "face.amount            0\n",
            "risk.premium           0\n",
            "saving.premium         0\n",
            "CPI.relvar1mth         0\n",
            "CPI.relvar1qtr         0\n",
            "CPI.relvar1yr          0\n",
            "CPI.relvar2yr          0\n",
            "EUidx.relvar1mth       0\n",
            "EUidx.relvar1qtr       0\n",
            "EUidx.relvar1yr        0\n",
            "EUidx.relvar2yr        0\n",
            "rate1Y.relvar1mth      0\n",
            "rate1Y.relvar1qtr      0\n",
            "rate2Y.relvar1mth      0\n",
            "rate2Y.relvar1qtr      0\n",
            "rate10Y.relvar1mth     0\n",
            "rate10Y.relvar1qtr     0\n",
            "unemploy.relvar1mth    0\n",
            "unemploy.relvar1qtr    0\n",
            "industry.relvar1mth    0\n",
            "industry.relvar1qtr    0\n",
            "RTV.relvar1mth         0\n",
            "RTV.relvar1qtr         0\n",
            "dtype: int64\n",
            "Empty DataFrame\n",
            "Columns: [policy.ID, issue.date, termination.date, lapse.reason, premium.frequency, gender, underwriting.age, face.amount, risk.premium, saving.premium, CPI.relvar1mth, CPI.relvar1qtr, CPI.relvar1yr, CPI.relvar2yr, EUidx.relvar1mth, EUidx.relvar1qtr, EUidx.relvar1yr, EUidx.relvar2yr, rate1Y.relvar1mth, rate1Y.relvar1qtr, rate2Y.relvar1mth, rate2Y.relvar1qtr, rate10Y.relvar1mth, rate10Y.relvar1qtr, unemploy.relvar1mth, unemploy.relvar1qtr, industry.relvar1mth, industry.relvar1qtr, RTV.relvar1mth, RTV.relvar1qtr]\n",
            "Index: []\n",
            "\n",
            "[0 rows x 30 columns]\n",
            "<class 'pandas.core.frame.DataFrame'>\n",
            "RangeIndex: 21921 entries, 0 to 21920\n",
            "Data columns (total 30 columns):\n",
            " #   Column               Non-Null Count  Dtype  \n",
            "---  ------               --------------  -----  \n",
            " 0   policy.ID            21921 non-null  object \n",
            " 1   issue.date           21921 non-null  object \n",
            " 2   termination.date     21921 non-null  object \n",
            " 3   lapse.reason         21921 non-null  object \n",
            " 4   premium.frequency    21921 non-null  object \n",
            " 5   gender               21921 non-null  object \n",
            " 6   underwriting.age     21921 non-null  int64  \n",
            " 7   face.amount          21921 non-null  float64\n",
            " 8   risk.premium         21921 non-null  float64\n",
            " 9   saving.premium       21921 non-null  float64\n",
            " 10  CPI.relvar1mth       21921 non-null  float64\n",
            " 11  CPI.relvar1qtr       21921 non-null  float64\n",
            " 12  CPI.relvar1yr        21921 non-null  float64\n",
            " 13  CPI.relvar2yr        21921 non-null  float64\n",
            " 14  EUidx.relvar1mth     21921 non-null  float64\n",
            " 15  EUidx.relvar1qtr     21921 non-null  float64\n",
            " 16  EUidx.relvar1yr      21921 non-null  float64\n",
            " 17  EUidx.relvar2yr      21921 non-null  float64\n",
            " 18  rate1Y.relvar1mth    21921 non-null  float64\n",
            " 19  rate1Y.relvar1qtr    21921 non-null  float64\n",
            " 20  rate2Y.relvar1mth    21921 non-null  float64\n",
            " 21  rate2Y.relvar1qtr    21921 non-null  float64\n",
            " 22  rate10Y.relvar1mth   21921 non-null  float64\n",
            " 23  rate10Y.relvar1qtr   21921 non-null  float64\n",
            " 24  unemploy.relvar1mth  21921 non-null  float64\n",
            " 25  unemploy.relvar1qtr  21921 non-null  float64\n",
            " 26  industry.relvar1mth  21921 non-null  float64\n",
            " 27  industry.relvar1qtr  21921 non-null  float64\n",
            " 28  RTV.relvar1mth       21921 non-null  float64\n",
            " 29  RTV.relvar1qtr       21921 non-null  float64\n",
            "dtypes: float64(23), int64(1), object(6)\n",
            "memory usage: 5.0+ MB\n",
            "['policy.ID', 'issue.date', 'termination.date', 'lapse.reason', 'premium.frequency', 'gender', 'underwriting.age', 'face.amount', 'risk.premium', 'saving.premium', 'CPI.relvar1mth', 'CPI.relvar1qtr', 'CPI.relvar1yr', 'CPI.relvar2yr', 'EUidx.relvar1mth', 'EUidx.relvar1qtr', 'EUidx.relvar1yr', 'EUidx.relvar2yr', 'rate1Y.relvar1mth', 'rate1Y.relvar1qtr', 'rate2Y.relvar1mth', 'rate2Y.relvar1qtr', 'rate10Y.relvar1mth', 'rate10Y.relvar1qtr', 'unemploy.relvar1mth', 'unemploy.relvar1qtr', 'industry.relvar1mth', 'industry.relvar1qtr', 'RTV.relvar1mth', 'RTV.relvar1qtr']\n"
          ]
        }
      ],
      "source": [
        "#Potential missing values\n",
        "Missing_Values=df.isna().sum()\n",
        "print(Missing_Values)\n",
        "\n",
        "#Potential duplicated values\n",
        "Duplicated_Values=df[df.duplicated(keep=False)]\n",
        "print(Duplicated_Values)\n",
        "  #Treating duplicated values (if any)\n",
        "df_cleaned=df.drop_duplicates(keep='first')\n",
        "\n",
        "#Information about the new cleaned dataset\n",
        "df_cleaned.info()\n",
        "print(df_cleaned.columns.tolist())"
      ]
    },
    {
      "cell_type": "markdown",
      "id": "099I_dd4bD61",
      "metadata": {
        "id": "099I_dd4bD61"
      },
      "source": [
        "After this check, we can see that there are neither missing values nor duplicates and there are 2 date variables that have been properly treated.\n",
        "\n",
        "We shall now create two datasets (df_cat and df_num), one for each of the following two dependent variables:\n",
        "*   a categorical one: lapse.reason;\n",
        "*   a numeric one: a numerical variable that represents the proportion of risk premium over total premium: proportion_risk_premium = risk.premium / (risk.premium+saving.premium)"
      ]
    },
    {
      "cell_type": "code",
      "execution_count": null,
      "id": "xlLmk_Rsx7vc",
      "metadata": {
        "id": "xlLmk_Rsx7vc"
      },
      "outputs": [],
      "source": [
        "# Conversion of the date columns from 'object' to 'datetime'\n",
        "df_cleaned['issue.date'] = pd.to_datetime(df['issue.date'], errors='coerce')\n",
        "df_cleaned['termination.date'] = pd.to_datetime(df['termination.date'], errors='coerce')\n",
        "\n",
        "# Creation of numerical and categorical datasets\n",
        "df_cat = df_cleaned.copy()\n",
        "df_num = df_cleaned.copy()\n",
        "\n",
        "# Creation of numerical dependent variable\n",
        "df_num['proportion_risk_premium'] = df_num['risk.premium']/(df_num['risk.premium'] + df_num['saving.premium'])"
      ]
    },
    {
      "cell_type": "markdown",
      "id": "XZ5Mhh5DbJ9c",
      "metadata": {
        "id": "XZ5Mhh5DbJ9c"
      },
      "source": [
        "## Data preprocessing\n",
        "After creating the numerical and categorical datasets, we shall now define the X (X_cat and X_num) and y datasets before converting categorical variables to a suitable format (using the \"one-hot encoding\" method), handling date variables and splitting the datasets into training and test sets."
      ]
    },
    {
      "cell_type": "code",
      "execution_count": null,
      "id": "kxMkhp8KQ01J",
      "metadata": {
        "id": "kxMkhp8KQ01J"
      },
      "outputs": [],
      "source": [
        "# Definition of X and y datasets\n",
        "y_num = df_num['proportion_risk_premium']\n",
        "y_cat = df_cat['lapse.reason']\n",
        "X_num = df_num.drop(['proportion_risk_premium'], axis=1)\n",
        "X_cat = df_cat.drop(['lapse.reason'], axis=1)\n",
        "\n",
        "# One-hot encoding method for categorical variables\n",
        "categorical_cols = X_cat.select_dtypes(include=['object']).columns.tolist()\n",
        "preprocessor = ColumnTransformer(\n",
        "    transformers=[('onehot', OneHotEncoder(handle_unknown='ignore'), categorical_cols)],\n",
        "    remainder='passthrough')\n",
        "\n",
        "# Date variables handling\n",
        "for df_ in [X_num, X_cat]:\n",
        "    df_['issue_date_year'] = df_['issue.date'].dt.year\n",
        "    df_['issue_date_month'] = df_['issue.date'].dt.month\n",
        "    df_['termination_date_year'] = df_['termination.date'].dt.year\n",
        "    df_['termination_date_month'] = df_['termination.date'].dt.month\n",
        "    df_.drop(['issue.date', 'termination.date'], axis=1, inplace=True)\n",
        "\n",
        "# Split test and train datasets\n",
        "X_train_cat, X_test_cat, y_train_cat, y_test_cat = train_test_split(X_cat, y_cat, test_size=0.25, random_state=23, stratify=y_cat)\n",
        "\n",
        "X_train_num, X_test_num, y_train_num, y_test_num = train_test_split(X_num, y_num, test_size=0.25, random_state=23)"
      ]
    },
    {
      "cell_type": "markdown",
      "id": "XI885gZbJ3Sr",
      "metadata": {
        "id": "XI885gZbJ3Sr"
      },
      "source": [
        "## Development of model for categorical variable: RandomForest\n",
        "\n",
        "In this part we shall develop a Random Forest algorithm for the categorical dependent variable \"lapse.reason\"."
      ]
    },
    {
      "cell_type": "code",
      "source": [
        "# Building the pipeline with preprocessing and classifier\n",
        "rf_pipeline = Pipeline(steps=[\n",
        "    ('preprocessor', preprocessor),\n",
        "    ('classifier', RandomForestClassifier(n_estimators=100, random_state=23))\n",
        "])\n",
        "\n",
        "# Fitting the model on training data\n",
        "rf_pipeline.fit(X_train_cat, y_train_cat)\n",
        "\n",
        "# Predicting on test data\n",
        "y_pred = rf_pipeline.predict(X_test_cat)\n",
        "\n",
        "# Evaluating the model\n",
        "print(\"Classification report for 'lapse.reason':\")\n",
        "print(classification_report(y_test_cat, y_pred))"
      ],
      "metadata": {
        "colab": {
          "base_uri": "https://localhost:8080/"
        },
        "id": "ezPnnDZOR33z",
        "outputId": "6ed963c6-c235-4397-fe6c-50dc292994e8"
      },
      "id": "ezPnnDZOR33z",
      "execution_count": null,
      "outputs": [
        {
          "output_type": "stream",
          "name": "stdout",
          "text": [
            "Classification report for 'lapse.reason':\n",
            "              precision    recall  f1-score   support\n",
            "\n",
            "       Claim       1.00      0.10      0.19        49\n",
            "    In force       1.00      1.00      1.00      3470\n",
            "   Surrender       0.98      1.00      0.99      1962\n",
            "\n",
            "    accuracy                           0.99      5481\n",
            "   macro avg       0.99      0.70      0.72      5481\n",
            "weighted avg       0.99      0.99      0.99      5481\n",
            "\n"
          ]
        }
      ]
    },
    {
      "cell_type": "markdown",
      "source": [
        "These results show us that the current model is performing well overall (very high/perfect precision), but poorly on the minority class especially on the claim with a very small recall and we shall tune the model now to see if we can improve it."
      ],
      "metadata": {
        "id": "9zeCBbI3TVk-"
      },
      "id": "9zeCBbI3TVk-"
    },
    {
      "cell_type": "code",
      "source": [
        "param_dist = {\n",
        "    'classifier__n_estimators': [10, 30, 50],\n",
        "    'classifier__max_depth': [None, 10, 20],\n",
        "    'classifier__min_samples_split': [2, 5, 10],\n",
        "    'classifier__min_samples_leaf': [1, 2, 4],\n",
        "    'classifier__max_features': ['sqrt','log2']\n",
        "}\n",
        "\n",
        "# Setting up RandomizedSearchCV\n",
        "random_search = RandomizedSearchCV(\n",
        "    rf_pipeline, param_distributions=param_dist,\n",
        "    n_iter=20, scoring='f1_weighted', cv=5, n_jobs=-1, verbose=2, random_state=23\n",
        ")\n",
        "\n",
        "# Running hyperparameter tuning\n",
        "random_search.fit(X_train_cat, y_train_cat)\n",
        "\n",
        "# Best parameters\n",
        "print(\"Best hyperparameters:\", random_search.best_params_)"
      ],
      "metadata": {
        "colab": {
          "base_uri": "https://localhost:8080/"
        },
        "id": "EhgPkMb7TtyM",
        "outputId": "68d1a8d8-3b52-4cf4-8db7-39be117ba189"
      },
      "id": "EhgPkMb7TtyM",
      "execution_count": null,
      "outputs": [
        {
          "output_type": "stream",
          "name": "stdout",
          "text": [
            "Fitting 5 folds for each of 20 candidates, totalling 100 fits\n",
            "Best hyperparameters: {'classifier__n_estimators': 30, 'classifier__min_samples_split': 2, 'classifier__min_samples_leaf': 1, 'classifier__max_features': 'log2', 'classifier__max_depth': None}\n"
          ]
        }
      ]
    },
    {
      "cell_type": "code",
      "source": [
        "# Building the pipeline with the best hyperparameters\n",
        "clf_best = Pipeline(steps=[\n",
        "    ('preprocessor', preprocessor),\n",
        "    ('classifier', RandomForestClassifier(\n",
        "        n_estimators=30,\n",
        "        min_samples_split=2,\n",
        "        min_samples_leaf=1,\n",
        "        max_features='log2',\n",
        "        max_depth=None,\n",
        "        random_state=23\n",
        "    ))\n",
        "])\n",
        "\n",
        "# Training the classifier\n",
        "clf_best.fit(X_train_cat, y_train_cat)\n",
        "\n",
        "# Predicting on test set\n",
        "y_pred = clf_best.predict(X_test_cat)\n",
        "\n",
        "# Generating classification report\n",
        "print(\"Classification Report with best hyperparameters:\")\n",
        "print(classification_report(y_test_cat, y_pred))\n"
      ],
      "metadata": {
        "colab": {
          "base_uri": "https://localhost:8080/"
        },
        "id": "u7zWRZ_IgC4Q",
        "outputId": "20d0aea8-7a44-4a33-df88-1a0e3123bb7f"
      },
      "id": "u7zWRZ_IgC4Q",
      "execution_count": null,
      "outputs": [
        {
          "output_type": "stream",
          "name": "stdout",
          "text": [
            "Classification Report with best hyperparameters:\n",
            "              precision    recall  f1-score   support\n",
            "\n",
            "       Claim       1.00      0.12      0.22        49\n",
            "    In force       1.00      1.00      1.00      3470\n",
            "   Surrender       0.98      1.00      0.99      1962\n",
            "\n",
            "    accuracy                           0.99      5481\n",
            "   macro avg       0.99      0.71      0.74      5481\n",
            "weighted avg       0.99      0.99      0.99      5481\n",
            "\n"
          ]
        }
      ]
    },
    {
      "cell_type": "markdown",
      "source": [
        "After the hyperparameter tuning, we observe that the high overall accuracy is still driven mainly by majority classes, the model is still perfoming well and there is a small improvement in the Claim recall (from 10% to 12%), which shows that the model still struggles to detect claims effectively."
      ],
      "metadata": {
        "id": "VR6AswWshb5l"
      },
      "id": "VR6AswWshb5l"
    },
    {
      "cell_type": "markdown",
      "id": "Bc1ljHyeKQCj",
      "metadata": {
        "id": "Bc1ljHyeKQCj"
      },
      "source": [
        "## Development of model for numerical variable (proportion): Sequential Dense NN\n",
        "\n",
        "\n",
        "In this section we shall develop a Sequential Dense Neural Network for the numerical variable \"proportion_risk_premium\"."
      ]
    },
    {
      "cell_type": "code",
      "execution_count": null,
      "id": "4_-XSP6_58ah",
      "metadata": {
        "id": "4_-XSP6_58ah",
        "colab": {
          "base_uri": "https://localhost:8080/",
          "height": 538
        },
        "outputId": "b0446e75-3d55-4f6f-b483-5905c3af01a9"
      },
      "outputs": [
        {
          "output_type": "stream",
          "name": "stderr",
          "text": [
            "/usr/local/lib/python3.12/dist-packages/keras/src/layers/core/dense.py:93: UserWarning: Do not pass an `input_shape`/`input_dim` argument to a layer. When using Sequential models, prefer using an `Input(shape)` object as the first layer in the model instead.\n",
            "  super().__init__(activity_regularizer=activity_regularizer, **kwargs)\n"
          ]
        },
        {
          "output_type": "stream",
          "name": "stdout",
          "text": [
            "\u001b[1m172/172\u001b[0m \u001b[32m━━━━━━━━━━━━━━━━━━━━\u001b[0m\u001b[37m\u001b[0m \u001b[1m1s\u001b[0m 8ms/step - loss: 2.0801e-05 - mae: 0.0037\n",
            "Test MAE: 0.0036078321281820536\n"
          ]
        },
        {
          "output_type": "display_data",
          "data": {
            "text/plain": [
              "<Figure size 640x480 with 1 Axes>"
            ],
            "image/png": "[encoded data removed]"
          },
          "metadata": {}
        }
      ],
      "source": [
        "# Setting seeds for reproducibility\n",
        "seed_value = 23\n",
        "random.seed(seed_value)\n",
        "np.random.seed(seed_value)\n",
        "tf.random.set_seed(seed_value)\n",
        "\n",
        "# One-hot encoding method for categorical variables\n",
        "categorical_cols_num = X_train_num.select_dtypes(include=['object']).columns.tolist()\n",
        "preprocessor_num = ColumnTransformer(transformers=[('cat', OneHotEncoder(handle_unknown='ignore'), categorical_cols_num)],\n",
        "    remainder='passthrough')\n",
        "\n",
        "# Fitting and transforming the training and testing datasets\n",
        "X_train_encoded_num = preprocessor_num.fit_transform(X_train_num)\n",
        "X_test_encoded_num = preprocessor_num.transform(X_test_num)\n",
        "\n",
        "X_train_dense_num = X_train_encoded_num.toarray() if hasattr(X_train_encoded_num, \"toarray\") else X_train_encoded_num\n",
        "X_test_dense_num = X_test_encoded_num.toarray() if hasattr(X_test_encoded_num, \"toarray\") else X_test_encoded_num\n",
        "\n",
        "# Scaling all features\n",
        "scaler = StandardScaler()\n",
        "X_train_scaled_num = scaler.fit_transform(X_train_dense_num)\n",
        "X_test_scaled_num = scaler.transform(X_test_dense_num)\n",
        "\n",
        "# Defining the neural network\n",
        "nn_model = models.Sequential([\n",
        "    layers.Dense(64, activation='relu', input_shape=(X_train_scaled_num.shape[1],)),\n",
        "    layers.Dense(32, activation='relu'),\n",
        "    layers.Dense(1, activation='linear')\n",
        "])\n",
        "\n",
        "# Model compilation\n",
        "nn_model.compile(optimizer='adam', loss='mse', metrics=['mae'])\n",
        "\n",
        "# Model training\n",
        "history = nn_model.fit(\n",
        "    X_train_scaled_num,\n",
        "    y_train_num,\n",
        "    validation_split=0.25,\n",
        "    epochs=50,\n",
        "    batch_size=32,\n",
        "    verbose=0\n",
        ")\n",
        "\n",
        "# Model evaluation\n",
        "loss, mae = nn_model.evaluate(X_test_scaled_num, y_test_num)\n",
        "print(f\"Test MAE: {mae}\")\n",
        "\n",
        "# Plot training history\n",
        "plt.plot(history.history['loss'], label='Training Loss')\n",
        "plt.plot(history.history['val_loss'], label='Validation Loss')\n",
        "plt.xlabel('Epochs')\n",
        "plt.ylabel('Loss')\n",
        "plt.legend()\n",
        "plt.show()\n"
      ]
    },
    {
      "cell_type": "markdown",
      "source": [
        "From the results above we can say that, with the average absolute error (MAE) in predicting \"proportion_risk_premium\" of 0.36%, the model is highly accurate at estimating the target variable on unseen data and that the model has effectively learned the relationship between features and the \"proportion_risk_premium\"."
      ],
      "metadata": {
        "id": "4eZoEEbG4D3K"
      },
      "id": "4eZoEEbG4D3K"
    },
    {
      "cell_type": "markdown",
      "id": "8RSD2zs9TRUh",
      "metadata": {
        "id": "8RSD2zs9TRUh"
      },
      "source": [
        "# Variable selection"
      ]
    },
    {
      "cell_type": "markdown",
      "id": "FlXxBhvuFhfS",
      "metadata": {
        "id": "FlXxBhvuFhfS"
      },
      "source": [
        "## Categorical problem, feature selection\n",
        "\n",
        "In this section, we shall perform Boruta feature selection, using (from boruta) BortutaPy, for the categorical dependent variable \"lapse.reason\"."
      ]
    },
    {
      "cell_type": "code",
      "execution_count": null,
      "id": "VlXLu31W5snq",
      "metadata": {
        "id": "VlXLu31W5snq"
      },
      "outputs": [],
      "source": [
        "# Fit the preprocessor on training data\n",
        "preprocessor.fit(X_train_cat)\n",
        "\n",
        "# Transform train and test features\n",
        "X_train_encoded = preprocessor.transform(X_train_cat)\n",
        "X_test_encoded = preprocessor.transform(X_test_cat)\n",
        "\n",
        "# Convert to dense numpy arrays\n",
        "X_train_dense = X_train_encoded if hasattr(X_train_encoded, \"toarray\") else X_train_encoded\n",
        "X_test_dense = X_test_encoded if hasattr(X_test_encoded, \"toarray\") else X_test_encoded\n",
        "\n",
        "if hasattr(X_train_dense, \"toarray\"):\n",
        "    X_train_dense = X_train_dense.toarray()\n",
        "if hasattr(X_test_dense, \"toarray\"):\n",
        "    X_test_dense = X_test_dense.toarray()\n"
      ]
    },
    {
      "cell_type": "code",
      "source": [
        "# Now fit Boruta\n",
        "rf = RandomForestClassifier(n_estimators=10, random_state=23)\n",
        "selector = BorutaPy(rf, max_iter=5, random_state=23, verbose=0)\n",
        "selector.fit(X_train_dense, y_train_cat.values)\n",
        "\n",
        "# Getting feature names after encoding\n",
        "feature_names = np.array(preprocessor.get_feature_names_out())\n",
        "selected_features = feature_names[selector.support_]\n",
        "\n",
        "print(\"Boruta selected features:\")\n",
        "print(list(selected_features))"
      ],
      "metadata": {
        "id": "QZLG3FGm9-Be",
        "outputId": "eb4f0a07-1d51-404e-9446-1312915a15bb",
        "colab": {
          "base_uri": "https://localhost:8080/"
        }
      },
      "id": "QZLG3FGm9-Be",
      "execution_count": null,
      "outputs": [
        {
          "output_type": "stream",
          "name": "stdout",
          "text": [
            "Boruta selected features:\n",
            "[]\n"
          ]
        }
      ]
    },
    {
      "cell_type": "markdown",
      "source": [
        "Unfortunately, for the boruta feature selection we were not able to get feature selections after 25 minuts of run due to the hugeness of the data; i.e, for us to get more precise information, we would need to use more estimators (50 or 100) and increase the maximum number of iterations (20 or more) but doing this makes our program crash due to lack of RAM."
      ],
      "metadata": {
        "id": "q8p8njpVGJXT"
      },
      "id": "q8p8njpVGJXT"
    },
    {
      "cell_type": "markdown",
      "id": "HMDLAYd75uph",
      "metadata": {
        "id": "HMDLAYd75uph"
      },
      "source": [
        "Now we shall perform Genetic Algorithm feature selection using (from deap) base, creator, tools, algorithms respectively for the categorical dependent variable \"lapse.reason\"."
      ]
    },
    {
      "cell_type": "code",
      "execution_count": null,
      "id": "sY9sH1S95zke",
      "metadata": {
        "id": "sY9sH1S95zke"
      },
      "outputs": [],
      "source": [
        "# Defining the fitness evaluation function\n",
        "feature_names_GA = preprocessor.get_feature_names_out()\n",
        "def evalFitness(individual):\n",
        "    if sum(individual) == 0:\n",
        "        return 0.,\n",
        "    selected_indices = [i for i, bit in enumerate(individual) if bit == 1]\n",
        "    X_selected = X_train_encoded[:, selected_indices]\n",
        "    clf = RandomForestClassifier(\n",
        "        n_estimators=30,\n",
        "        max_depth=None,\n",
        "        min_samples_split=2,\n",
        "        min_samples_leaf=1,\n",
        "        max_features='log2',\n",
        "        class_weight='balanced',\n",
        "        n_jobs=-1,\n",
        "        random_state=23\n",
        "    )\n",
        "\n",
        "    scores = cross_val_score(clf, X_selected, y_train_cat, cv=3, scoring='accuracy')\n",
        "    return scores.mean(),\n",
        "\n",
        "# DEAP setup\n",
        "creator.create(\"FitnessMax\", base.Fitness, weights=(1.0,))\n",
        "creator.create(\"Individual\", list, fitness=creator.FitnessMax)\n",
        "\n",
        "toolbox = base.Toolbox()\n",
        "toolbox.register(\"attr_bool\", random.randint, 0, 1)\n",
        "n_features = X_train_encoded.shape[1]\n",
        "toolbox.register(\"individual\", tools.initRepeat, creator.Individual, toolbox.attr_bool, n=n_features)\n",
        "toolbox.register(\"population\", tools.initRepeat, list, toolbox.individual)\n",
        "\n",
        "# Genetic operators registration\n",
        "toolbox.register(\"evaluate\", evalFitness)\n",
        "toolbox.register(\"mate\", tools.cxTwoPoint)\n",
        "toolbox.register(\"mutate\", tools.mutFlipBit, indpb=0.05)\n",
        "toolbox.register(\"select\", tools.selTournament, tournsize=3)\n",
        "\n",
        "# Genetic Algorithm run\n",
        "seed_value = 23\n",
        "random.seed(seed_value)\n",
        "population = toolbox.population(n=30)\n",
        "NGEN = 5\n",
        "\n",
        "for gen in range(NGEN):\n",
        "    offspring = algorithms.varAnd(population, toolbox, cxpb=0.5, mutpb=0.2)\n",
        "    fits = list(map(toolbox.evaluate, offspring))\n",
        "    for fit, ind in zip(fits, offspring):\n",
        "        ind.fitness.values = fit\n",
        "    population = toolbox.select(offspring, len(population))\n",
        "    best_ind = tools.selBest(population, 1)[0]\n",
        "    print(f\"Generation {gen+1}: Best accuracy = {best_ind.fitness.values[0]:.3f}\")\n",
        "\n",
        "# Extracting the best feature subset\n",
        "best_individual = tools.selBest(population, 1)[0]\n",
        "selected_indices_GA = [i for i, bit in enumerate(best_individual) if bit == 1]\n",
        "selected_features_GA = [feature_names_GA[i][i] for i in selected_indices_GA]\n",
        "\n",
        "print(\"Selected features by GA:\")\n",
        "for feat in selected_feature_GA:\n",
        "    print(\"-\", feat)\n",
        "\n"
      ]
    },
    {
      "cell_type": "markdown",
      "id": "70jdGydFFon-",
      "metadata": {
        "id": "70jdGydFFon-"
      },
      "source": [
        "## Numerical problem, feature selection\n",
        "\n",
        "In this section, we start by performing a forward and a backward selection on explanatory variables for the numerical variable \"proportion_risk_premium\".\n",
        "\n",
        "\n"
      ]
    },
    {
      "cell_type": "code",
      "execution_count": null,
      "id": "lltiuzAZyXWt",
      "metadata": {
        "id": "lltiuzAZyXWt"
      },
      "outputs": [],
      "source": [
        "# Selecting only numeric columns\n",
        "numeric_cols = X_train_num.select_dtypes(include=['number']).columns.tolist()\n",
        "\n",
        "# Subseting data to only numeric features and scaling them\n",
        "X_train_num_numeric = X_train_num[numeric_cols]\n",
        "scaler = StandardScaler()\n",
        "X_train_scaled_numeric = scaler.fit_transform(X_train_num_numeric)\n",
        "\n",
        "# Running forward feature selection\n",
        "sfs_forward = SequentialFeatureSelector(\n",
        "    Lasso(alpha=0.01),\n",
        "    k_features=10,\n",
        "    forward=True\n",
        ")\n",
        "sfs_forward.fit(X_train_scaled_numeric, y_train_num)\n",
        "\n",
        "# Running backward feature selection\n",
        "sfs_backward = SequentialFeatureSelector(\n",
        "    Lasso(alpha=0.001),\n",
        "    k_features=10,\n",
        "    forward=False\n",
        ")\n",
        "sfs_backward.fit(X_train_scaled_numeric, y_train_num)\n",
        "\n",
        "# Getting selected feature names\n",
        "forward_indices = sfs_forward.get_support(indices=True)\n",
        "backward_indices = sfs_backward.get_support(indices=True)\n",
        "\n",
        "# Mapping indices to feature names\n",
        "forward_features = X_train_num_numeric.columns[forward_indices]\n",
        "backward_features = X_train_num_numeric.columns[backward_indices]\n",
        "\n",
        "print(\"Forward selected features:\", list(forward_features))\n",
        "print(\"Backward selected features:\", list(backward_features))\n",
        "\n",
        "# Using forward-selected features for model training\n",
        "X_train_final_num = X_train_num[forward_features]\n",
        "X_test_final_num = X_test_num[forward_features]\n",
        "\n",
        "# Scale the final features\n",
        "X_train_final_num_scaled = scaler.fit_transform(X_train_final_num)\n",
        "X_test_final_num_scaled = scaler.transform(X_test_final_num)\n"
      ]
    },
    {
      "cell_type": "markdown",
      "id": "BJlJAwZQ6_pO",
      "metadata": {
        "id": "BJlJAwZQ6_pO"
      },
      "source": [
        "Then we apply Lasso on that same numerical variable \"proportion_risk_premium\"."
      ]
    },
    {
      "cell_type": "code",
      "execution_count": null,
      "id": "IOfqUffz7ATL",
      "metadata": {
        "id": "IOfqUffz7ATL",
        "outputId": "4b262fa1-f752-49d2-903b-96b6b9cd33cd",
        "colab": {
          "base_uri": "https://localhost:8080/"
        }
      },
      "outputs": [
        {
          "output_type": "stream",
          "name": "stdout",
          "text": [
            "Lasso coefficients for selected features:\n",
            "underwriting.age    0.0\n",
            "face.amount        -0.0\n",
            "risk.premium        0.0\n",
            "saving.premium     -0.0\n",
            "CPI.relvar1mth      0.0\n",
            "CPI.relvar1qtr      0.0\n",
            "CPI.relvar1yr       0.0\n",
            "CPI.relvar2yr       0.0\n",
            "EUidx.relvar1mth    0.0\n",
            "EUidx.relvar1qtr    0.0\n",
            "dtype: float64\n"
          ]
        }
      ],
      "source": [
        "# Extracting the selected feature names\n",
        "selected_features_Lasso = list(forward_features)\n",
        "\n",
        "# Subsetting the original data to these features\n",
        "X_train_selected_num = X_train_num[selected_features_Lasso]\n",
        "X_test_selected_num = X_test_num[selected_features_Lasso]\n",
        "\n",
        "# Scaling the features\n",
        "scaler_final = StandardScaler()\n",
        "X_train_scaled = scaler_final.fit_transform(X_train_selected_num)\n",
        "X_test_scaled = scaler_final.transform(X_test_selected_num)\n",
        "\n",
        "# Fitting Lasso regression\n",
        "lasso_final = Lasso(alpha=0.001)\n",
        "lasso_final.fit(X_train_scaled, y_train_num)\n",
        "\n",
        "# Coefficients for interpretability\n",
        "coefficients = pd.Series(lasso_final.coef_, index=selected_features_Lasso)\n",
        "\n",
        "print(\"Lasso coefficients for selected features:\")\n",
        "print(coefficients.sort_values(ascending=False))\n"
      ]
    },
    {
      "cell_type": "markdown",
      "source": [
        "The coefficients our selected features are all zero after applying Lasso, which indicates none of these features have a significant linear relationship with \"proportion_risk_premium\" under the current model and alpha value; this may also suggest that the relationship might be non-linear or weak."
      ],
      "metadata": {
        "id": "CMbmpaCWZ5jf"
      },
      "id": "CMbmpaCWZ5jf"
    },
    {
      "cell_type": "markdown",
      "id": "TDgCQsykrs_5",
      "metadata": {
        "id": "TDgCQsykrs_5"
      },
      "source": [
        "# Explainability of the model"
      ]
    },
    {
      "cell_type": "markdown",
      "id": "e_UZkcj2rw89",
      "metadata": {
        "id": "e_UZkcj2rw89"
      },
      "source": [
        "## Categorical problem\n",
        "\n",
        "In this section, we give explanations of the RandomForest model, by permutation feature selection and using \"permutation_importance\", to a client who is keen to understand the reason behind the fact that their quote is so high."
      ]
    },
    {
      "cell_type": "code",
      "source": [
        "# Computing permutation importance on the test set\n",
        "result_cat = permutation_importance(\n",
        "    clf_best, X_test_cat, y_test_cat, n_repeats=10, random_state=23, n_jobs=-1\n",
        ")\n",
        "\n",
        "# Getting feature names from the preprocessor used in the pipeline\n",
        "preprocessor = clf_best.named_steps['preprocessor']\n",
        "try:\n",
        "    feature_names_cat = preprocessor.get_feature_names_out()\n",
        "except AttributeError:\n",
        "    feature_names_cat = []\n",
        "\n",
        "# Checking for a match between feature_names and importance_scores\n",
        "if len(feature_names_cat) == len(result_cat.importances_mean):\n",
        "    importance_scores = pd.Series(result_cat.importances_mean, index=feature_names_cat)\n",
        "else:\n",
        "    print(\"Mismatch between feature names and importance scores. Please verify the preprocessing steps.\")\n",
        "    importance_scores = pd.Series(result_cat.importances_mean)\n",
        "\n",
        "# Visualizing the top 20 most important features\n",
        "plt.figure(figsize=(12,8))\n",
        "importance_scores.sort_values(ascending=False).head(20).plot.bar()\n",
        "plt.title('Top 20 Features Impacting Quote Prediction')\n",
        "plt.ylabel('Mean Decrease in Model Performance')\n",
        "plt.tight_layout()\n",
        "plt.show()\n",
        "\n",
        "# Interpreting the results for the client\n",
        "top_features = importance_scores.sort_values(ascending=False).head(10).index.tolist()\n",
        "print(\"The most influential features in determining the quote are:\")\n",
        "for feat in top_features:\n",
        "    print(f\"- {feat}\")\n",
        "\n",
        "print(\"\\nPlain-language explanation:\")\n",
        "print(\"Features like the risk premium, face amount, and policy age are among the most impactful.\")\n",
        "print(\"Higher risk premiums and larger face amounts tend to increase the quote, which helps explain the high quotes.\")\n"
      ],
      "metadata": {
        "id": "_sv8O6cQcOa2"
      },
      "id": "_sv8O6cQcOa2",
      "execution_count": null,
      "outputs": []
    },
    {
      "cell_type": "markdown",
      "source": [
        "The importance scores tell us which features most influence the model's output. For instance, if certain age groups, face amounts, or risk premiums have high importance, it means these factors significantly impact the quote.\n",
        "\n",
        "If the model indicates that 'risk premium' or 'face amount' are highly influential, it suggests that higher risk or larger face amounts tend to lead to higher quotes."
      ],
      "metadata": {
        "id": "OxlQcm_7J-wR"
      },
      "id": "OxlQcm_7J-wR"
    },
    {
      "cell_type": "markdown",
      "id": "6ogt_2Kv9GF6",
      "metadata": {
        "id": "6ogt_2Kv9GF6"
      },
      "source": [
        "For the other method, of our choice, to explain the RandomForest model we chose the SHAP (SHapley Additive exPlanations) method as it provides local explanations (for individual predictions) and global explanations (feature importance across the dataset), in addition to being considered state-of-the-art for model interpretability. Moreover, it provides summary plots to see overall feature importance and effects, offers consistent and local explanations and helps when visualizing feature contributions for any specific prediction."
      ]
    },
    {
      "cell_type": "code",
      "execution_count": null,
      "id": "Jxe13YHE9LCB",
      "metadata": {
        "id": "Jxe13YHE9LCB"
      },
      "outputs": [],
      "source": [
        "import scipy.sparse as sparse\n",
        "# Extracting the model\n",
        "rf_model = clf_best.named_steps['classifier']\n",
        "\n",
        "# Creating SHAP explainer\n",
        "explainer = shap.TreeExplainer(rf_model)\n",
        "\n",
        "# Selecting raw data sample\n",
        "X_sample_raw = X_test_cat[:100]\n",
        "\n",
        "# Transforming using the pipeline's preprocessor\n",
        "X_sample_transformed = clf_best.named_steps['preprocessor'].transform(X_sample_raw)\n",
        "\n",
        "# Checking if sparse\n",
        "if sparse.issparse(X_sample_transformed):\n",
        "    X_sample_dense = X_sample_transformed.toarray()\n",
        "else:\n",
        "    X_sample_dense = X_sample_transformed\n",
        "\n",
        "# Converting to float\n",
        "X_sample_dense = X_sample_dense.astype(float)\n",
        "\n",
        "# Using with SHAP\n",
        "shap_values = explainer.shap_values(X_sample_dense)\n",
        "\n",
        "# Plot\n",
        "shap.summary_plot(shap_values, features=X_sample_dense, feature_names=feature_names)\n",
        "\n"
      ]
    },
    {
      "cell_type": "markdown",
      "id": "eS87my6hx_3N",
      "metadata": {
        "id": "eS87my6hx_3N"
      },
      "source": [
        "## Numerical problem"
      ]
    },
    {
      "cell_type": "markdown",
      "id": "Eh90ACcpr4XT",
      "metadata": {
        "id": "Eh90ACcpr4XT"
      },
      "source": [
        "In this section we shall explain neural networks with SHAP's KernelExplainer, a model-agnostic method, which is commonly used as it estimates feature contributions by approximating Shapley values instead of the SHAP method which is more complex than tree-based models."
      ]
    },
    {
      "cell_type": "code",
      "execution_count": null,
      "id": "a3BMxP6m9Sij",
      "metadata": {
        "id": "a3BMxP6m9Sij",
        "outputId": "b8cb70a9-8b88-492f-9bba-0c96a5b1dab5",
        "colab": {
          "base_uri": "https://localhost:8080/",
          "height": 1000,
          "referenced_widgets": [
            "678e17a6a88a427bae735c6c405d2878",
            "90863fb9cd6e44ca8313d15de8f706f4",
            "e9fbfd6a48e149909f57765a0ab3ff1c",
            "9a0f5d5bd8604b6a94cd98f8eb19872c",
            "6da68c7910934de192925d7b6e510580",
            "624fcdab13c64755ba02be8389aba55d",
            "a02faf2172a247fc9c3e3b52ba95bccd",
            "1ed003563ae34bbca43e2a074ba9bb2f",
            "81e7c6ba25b64409acfe581a65aa2d57",
            "0c4ab53a6deb48189ce719011c844eae",
            "d30cbf30cefe433aaf2e1ddfe943d752"
          ]
        }
      },
      "outputs": [
        {
          "output_type": "stream",
          "name": "stdout",
          "text": [
            "\u001b[1m4/4\u001b[0m \u001b[32m━━━━━━━━━━━━━━━━━━━━\u001b[0m\u001b[37m\u001b[0m \u001b[1m0s\u001b[0m 9ms/step \n"
          ]
        },
        {
          "output_type": "display_data",
          "data": {
            "text/plain": [
              "  0%|          | 0/100 [00:00<?, ?it/s]"
            ],
            "application/vnd.jupyter.widget-view+json": {
              "version_major": 2,
              "version_minor": 0,
              "model_id": "678e17a6a88a427bae735c6c405d2878"
            }
          },
          "metadata": {}
        },
        {
          "output_type": "stream",
          "name": "stdout",
          "text": [
            "\u001b[1m1/1\u001b[0m \u001b[32m━━━━━━━━━━━━━━━━━━━━\u001b[0m\u001b[37m\u001b[0m \u001b[1m0s\u001b[0m 37ms/step\n",
            "\u001b[1m313/313\u001b[0m \u001b[32m━━━━━━━━━━━━━━━━━━━━\u001b[0m\u001b[37m\u001b[0m \u001b[1m1s\u001b[0m 4ms/step\n",
            "\u001b[1m1/1\u001b[0m \u001b[32m━━━━━━━━━━━━━━━━━━━━\u001b[0m\u001b[37m\u001b[0m \u001b[1m0s\u001b[0m 36ms/step\n",
            "\u001b[1m313/313\u001b[0m \u001b[32m━━━━━━━━━━━━━━━━━━━━\u001b[0m\u001b[37m\u001b[0m \u001b[1m1s\u001b[0m 4ms/step\n",
            "\u001b[1m1/1\u001b[0m \u001b[32m━━━━━━━━━━━━━━━━━━━━\u001b[0m\u001b[37m\u001b[0m \u001b[1m0s\u001b[0m 38ms/step\n",
            "\u001b[1m313/313\u001b[0m \u001b[32m━━━━━━━━━━━━━━━━━━━━\u001b[0m\u001b[37m\u001b[0m \u001b[1m2s\u001b[0m 5ms/step\n",
            "\u001b[1m1/1\u001b[0m \u001b[32m━━━━━━━━━━━━━━━━━━━━\u001b[0m\u001b[37m\u001b[0m \u001b[1m0s\u001b[0m 54ms/step\n",
            "\u001b[1m313/313\u001b[0m \u001b[32m━━━━━━━━━━━━━━━━━━━━\u001b[0m\u001b[37m\u001b[0m \u001b[1m3s\u001b[0m 8ms/step\n",
            "\u001b[1m1/1\u001b[0m \u001b[32m━━━━━━━━━━━━━━━━━━━━\u001b[0m\u001b[37m\u001b[0m \u001b[1m0s\u001b[0m 56ms/step\n",
            "\u001b[1m313/313\u001b[0m \u001b[32m━━━━━━━━━━━━━━━━━━━━\u001b[0m\u001b[37m\u001b[0m \u001b[1m3s\u001b[0m 10ms/step\n",
            "\u001b[1m1/1\u001b[0m \u001b[32m━━━━━━━━━━━━━━━━━━━━\u001b[0m\u001b[37m\u001b[0m \u001b[1m0s\u001b[0m 37ms/step\n",
            "\u001b[1m313/313\u001b[0m \u001b[32m━━━━━━━━━━━━━━━━━━━━\u001b[0m\u001b[37m\u001b[0m \u001b[1m1s\u001b[0m 4ms/step\n",
            "\u001b[1m1/1\u001b[0m \u001b[32m━━━━━━━━━━━━━━━━━━━━\u001b[0m\u001b[37m\u001b[0m \u001b[1m0s\u001b[0m 37ms/step\n",
            "\u001b[1m313/313\u001b[0m \u001b[32m━━━━━━━━━━━━━━━━━━━━\u001b[0m\u001b[37m\u001b[0m \u001b[1m1s\u001b[0m 4ms/step\n",
            "\u001b[1m1/1\u001b[0m \u001b[32m━━━━━━━━━━━━━━━━━━━━\u001b[0m\u001b[37m\u001b[0m \u001b[1m0s\u001b[0m 37ms/step\n",
            "\u001b[1m313/313\u001b[0m \u001b[32m━━━━━━━━━━━━━━━━━━━━\u001b[0m\u001b[37m\u001b[0m \u001b[1m2s\u001b[0m 6ms/step\n",
            "\u001b[1m1/1\u001b[0m \u001b[32m━━━━━━━━━━━━━━━━━━━━\u001b[0m\u001b[37m\u001b[0m \u001b[1m0s\u001b[0m 36ms/step\n",
            "\u001b[1m313/313\u001b[0m \u001b[32m━━━━━━━━━━━━━━━━━━━━\u001b[0m\u001b[37m\u001b[0m \u001b[1m1s\u001b[0m 4ms/step\n",
            "\u001b[1m1/1\u001b[0m \u001b[32m━━━━━━━━━━━━━━━━━━━━\u001b[0m\u001b[37m\u001b[0m \u001b[1m0s\u001b[0m 52ms/step\n",
            "\u001b[1m313/313\u001b[0m \u001b[32m━━━━━━━━━━━━━━━━━━━━\u001b[0m\u001b[37m\u001b[0m \u001b[1m1s\u001b[0m 4ms/step\n",
            "\u001b[1m1/1\u001b[0m \u001b[32m━━━━━━━━━━━━━━━━━━━━\u001b[0m\u001b[37m\u001b[0m \u001b[1m0s\u001b[0m 37ms/step\n",
            "\u001b[1m313/313\u001b[0m \u001b[32m━━━━━━━━━━━━━━━━━━━━\u001b[0m\u001b[37m\u001b[0m \u001b[1m2s\u001b[0m 6ms/step\n",
            "\u001b[1m1/1\u001b[0m \u001b[32m━━━━━━━━━━━━━━━━━━━━\u001b[0m\u001b[37m\u001b[0m \u001b[1m0s\u001b[0m 57ms/step\n",
            "\u001b[1m313/313\u001b[0m \u001b[32m━━━━━━━━━━━━━━━━━━━━\u001b[0m\u001b[37m\u001b[0m \u001b[1m1s\u001b[0m 4ms/step\n",
            "\u001b[1m1/1\u001b[0m \u001b[32m━━━━━━━━━━━━━━━━━━━━\u001b[0m\u001b[37m\u001b[0m \u001b[1m0s\u001b[0m 38ms/step\n",
            "\u001b[1m313/313\u001b[0m \u001b[32m━━━━━━━━━━━━━━━━━━━━\u001b[0m\u001b[37m\u001b[0m \u001b[1m1s\u001b[0m 4ms/step\n",
            "\u001b[1m1/1\u001b[0m \u001b[32m━━━━━━━━━━━━━━━━━━━━\u001b[0m\u001b[37m\u001b[0m \u001b[1m0s\u001b[0m 47ms/step\n",
            "\u001b[1m313/313\u001b[0m \u001b[32m━━━━━━━━━━━━━━━━━━━━\u001b[0m\u001b[37m\u001b[0m \u001b[1m3s\u001b[0m 8ms/step\n",
            "\u001b[1m1/1\u001b[0m \u001b[32m━━━━━━━━━━━━━━━━━━━━\u001b[0m\u001b[37m\u001b[0m \u001b[1m0s\u001b[0m 38ms/step\n",
            "\u001b[1m313/313\u001b[0m \u001b[32m━━━━━━━━━━━━━━━━━━━━\u001b[0m\u001b[37m\u001b[0m \u001b[1m1s\u001b[0m 4ms/step\n",
            "\u001b[1m1/1\u001b[0m \u001b[32m━━━━━━━━━━━━━━━━━━━━\u001b[0m\u001b[37m\u001b[0m \u001b[1m0s\u001b[0m 38ms/step\n",
            "\u001b[1m313/313\u001b[0m \u001b[32m━━━━━━━━━━━━━━━━━━━━\u001b[0m\u001b[37m\u001b[0m \u001b[1m2s\u001b[0m 5ms/step\n",
            "\u001b[1m1/1\u001b[0m \u001b[32m━━━━━━━━━━━━━━━━━━━━\u001b[0m\u001b[37m\u001b[0m \u001b[1m0s\u001b[0m 53ms/step\n",
            "\u001b[1m313/313\u001b[0m \u001b[32m━━━━━━━━━━━━━━━━━━━━\u001b[0m\u001b[37m\u001b[0m \u001b[1m1s\u001b[0m 4ms/step\n",
            "\u001b[1m1/1\u001b[0m \u001b[32m━━━━━━━━━━━━━━━━━━━━\u001b[0m\u001b[37m\u001b[0m \u001b[1m0s\u001b[0m 44ms/step\n",
            "\u001b[1m313/313\u001b[0m \u001b[32m━━━━━━━━━━━━━━━━━━━━\u001b[0m\u001b[37m\u001b[0m \u001b[1m1s\u001b[0m 4ms/step\n",
            "\u001b[1m1/1\u001b[0m \u001b[32m━━━━━━━━━━━━━━━━━━━━\u001b[0m\u001b[37m\u001b[0m \u001b[1m0s\u001b[0m 39ms/step\n",
            "\u001b[1m313/313\u001b[0m \u001b[32m━━━━━━━━━━━━━━━━━━━━\u001b[0m\u001b[37m\u001b[0m \u001b[1m2s\u001b[0m 5ms/step\n",
            "\u001b[1m1/1\u001b[0m \u001b[32m━━━━━━━━━━━━━━━━━━━━\u001b[0m\u001b[37m\u001b[0m \u001b[1m0s\u001b[0m 41ms/step\n",
            "\u001b[1m313/313\u001b[0m \u001b[32m━━━━━━━━━━━━━━━━━━━━\u001b[0m\u001b[37m\u001b[0m \u001b[1m1s\u001b[0m 4ms/step\n",
            "\u001b[1m1/1\u001b[0m \u001b[32m━━━━━━━━━━━━━━━━━━━━\u001b[0m\u001b[37m\u001b[0m \u001b[1m0s\u001b[0m 37ms/step\n",
            "\u001b[1m313/313\u001b[0m \u001b[32m━━━━━━━━━━━━━━━━━━━━\u001b[0m\u001b[37m\u001b[0m \u001b[1m1s\u001b[0m 4ms/step\n",
            "\u001b[1m1/1\u001b[0m \u001b[32m━━━━━━━━━━━━━━━━━━━━\u001b[0m\u001b[37m\u001b[0m \u001b[1m0s\u001b[0m 39ms/step\n",
            "\u001b[1m313/313\u001b[0m \u001b[32m━━━━━━━━━━━━━━━━━━━━\u001b[0m\u001b[37m\u001b[0m \u001b[1m2s\u001b[0m 7ms/step\n",
            "\u001b[1m1/1\u001b[0m \u001b[32m━━━━━━━━━━━━━━━━━━━━\u001b[0m\u001b[37m\u001b[0m \u001b[1m0s\u001b[0m 37ms/step\n",
            "\u001b[1m313/313\u001b[0m \u001b[32m━━━━━━━━━━━━━━━━━━━━\u001b[0m\u001b[37m\u001b[0m \u001b[1m1s\u001b[0m 4ms/step\n",
            "\u001b[1m1/1\u001b[0m \u001b[32m━━━━━━━━━━━━━━━━━━━━\u001b[0m\u001b[37m\u001b[0m \u001b[1m0s\u001b[0m 38ms/step\n",
            "\u001b[1m313/313\u001b[0m \u001b[32m━━━━━━━━━━━━━━━━━━━━\u001b[0m\u001b[37m\u001b[0m \u001b[1m1s\u001b[0m 4ms/step\n",
            "\u001b[1m1/1\u001b[0m \u001b[32m━━━━━━━━━━━━━━━━━━━━\u001b[0m\u001b[37m\u001b[0m \u001b[1m0s\u001b[0m 38ms/step\n",
            "\u001b[1m313/313\u001b[0m \u001b[32m━━━━━━━━━━━━━━━━━━━━\u001b[0m\u001b[37m\u001b[0m \u001b[1m2s\u001b[0m 6ms/step\n",
            "\u001b[1m1/1\u001b[0m \u001b[32m━━━━━━━━━━━━━━━━━━━━\u001b[0m\u001b[37m\u001b[0m \u001b[1m0s\u001b[0m 39ms/step\n",
            "\u001b[1m313/313\u001b[0m \u001b[32m━━━━━━━━━━━━━━━━━━━━\u001b[0m\u001b[37m\u001b[0m \u001b[1m1s\u001b[0m 4ms/step\n",
            "\u001b[1m1/1\u001b[0m \u001b[32m━━━━━━━━━━━━━━━━━━━━\u001b[0m\u001b[37m\u001b[0m \u001b[1m0s\u001b[0m 40ms/step\n",
            "\u001b[1m313/313\u001b[0m \u001b[32m━━━━━━━━━━━━━━━━━━━━\u001b[0m\u001b[37m\u001b[0m \u001b[1m1s\u001b[0m 4ms/step\n",
            "\u001b[1m1/1\u001b[0m \u001b[32m━━━━━━━━━━━━━━━━━━━━\u001b[0m\u001b[37m\u001b[0m \u001b[1m0s\u001b[0m 38ms/step\n",
            "\u001b[1m313/313\u001b[0m \u001b[32m━━━━━━━━━━━━━━━━━━━━\u001b[0m\u001b[37m\u001b[0m \u001b[1m2s\u001b[0m 6ms/step\n",
            "\u001b[1m1/1\u001b[0m \u001b[32m━━━━━━━━━━━━━━━━━━━━\u001b[0m\u001b[37m\u001b[0m \u001b[1m0s\u001b[0m 37ms/step\n",
            "\u001b[1m313/313\u001b[0m \u001b[32m━━━━━━━━━━━━━━━━━━━━\u001b[0m\u001b[37m\u001b[0m \u001b[1m2s\u001b[0m 7ms/step\n",
            "\u001b[1m1/1\u001b[0m \u001b[32m━━━━━━━━━━━━━━━━━━━━\u001b[0m\u001b[37m\u001b[0m \u001b[1m0s\u001b[0m 90ms/step\n",
            "\u001b[1m313/313\u001b[0m \u001b[32m━━━━━━━━━━━━━━━━━━━━\u001b[0m\u001b[37m\u001b[0m \u001b[1m3s\u001b[0m 9ms/step\n",
            "\u001b[1m1/1\u001b[0m \u001b[32m━━━━━━━━━━━━━━━━━━━━\u001b[0m\u001b[37m\u001b[0m \u001b[1m0s\u001b[0m 39ms/step\n",
            "\u001b[1m313/313\u001b[0m \u001b[32m━━━━━━━━━━━━━━━━━━━━\u001b[0m\u001b[37m\u001b[0m \u001b[1m1s\u001b[0m 4ms/step\n",
            "\u001b[1m1/1\u001b[0m \u001b[32m━━━━━━━━━━━━━━━━━━━━\u001b[0m\u001b[37m\u001b[0m \u001b[1m0s\u001b[0m 37ms/step\n",
            "\u001b[1m313/313\u001b[0m \u001b[32m━━━━━━━━━━━━━━━━━━━━\u001b[0m\u001b[37m\u001b[0m \u001b[1m1s\u001b[0m 4ms/step\n",
            "\u001b[1m1/1\u001b[0m \u001b[32m━━━━━━━━━━━━━━━━━━━━\u001b[0m\u001b[37m\u001b[0m \u001b[1m0s\u001b[0m 49ms/step\n",
            "\u001b[1m313/313\u001b[0m \u001b[32m━━━━━━━━━━━━━━━━━━━━\u001b[0m\u001b[37m\u001b[0m \u001b[1m1s\u001b[0m 4ms/step\n",
            "\u001b[1m1/1\u001b[0m \u001b[32m━━━━━━━━━━━━━━━━━━━━\u001b[0m\u001b[37m\u001b[0m \u001b[1m0s\u001b[0m 45ms/step\n",
            "\u001b[1m313/313\u001b[0m \u001b[32m━━━━━━━━━━━━━━━━━━━━\u001b[0m\u001b[37m\u001b[0m \u001b[1m1s\u001b[0m 4ms/step\n",
            "\u001b[1m1/1\u001b[0m \u001b[32m━━━━━━━━━━━━━━━━━━━━\u001b[0m\u001b[37m\u001b[0m \u001b[1m0s\u001b[0m 39ms/step\n",
            "\u001b[1m313/313\u001b[0m \u001b[32m━━━━━━━━━━━━━━━━━━━━\u001b[0m\u001b[37m\u001b[0m \u001b[1m1s\u001b[0m 4ms/step\n",
            "\u001b[1m1/1\u001b[0m \u001b[32m━━━━━━━━━━━━━━━━━━━━\u001b[0m\u001b[37m\u001b[0m \u001b[1m0s\u001b[0m 38ms/step\n",
            "\u001b[1m313/313\u001b[0m \u001b[32m━━━━━━━━━━━━━━━━━━━━\u001b[0m\u001b[37m\u001b[0m \u001b[1m1s\u001b[0m 4ms/step\n",
            "\u001b[1m1/1\u001b[0m \u001b[32m━━━━━━━━━━━━━━━━━━━━\u001b[0m\u001b[37m\u001b[0m \u001b[1m0s\u001b[0m 38ms/step\n",
            "\u001b[1m313/313\u001b[0m \u001b[32m━━━━━━━━━━━━━━━━━━━━\u001b[0m\u001b[37m\u001b[0m \u001b[1m1s\u001b[0m 4ms/step\n",
            "\u001b[1m1/1\u001b[0m \u001b[32m━━━━━━━━━━━━━━━━━━━━\u001b[0m\u001b[37m\u001b[0m \u001b[1m0s\u001b[0m 40ms/step\n",
            "\u001b[1m313/313\u001b[0m \u001b[32m━━━━━━━━━━━━━━━━━━━━\u001b[0m\u001b[37m\u001b[0m \u001b[1m2s\u001b[0m 6ms/step\n",
            "\u001b[1m1/1\u001b[0m \u001b[32m━━━━━━━━━━━━━━━━━━━━\u001b[0m\u001b[37m\u001b[0m \u001b[1m0s\u001b[0m 76ms/step\n",
            "\u001b[1m313/313\u001b[0m \u001b[32m━━━━━━━━━━━━━━━━━━━━\u001b[0m\u001b[37m\u001b[0m \u001b[1m1s\u001b[0m 4ms/step\n",
            "\u001b[1m1/1\u001b[0m \u001b[32m━━━━━━━━━━━━━━━━━━━━\u001b[0m\u001b[37m\u001b[0m \u001b[1m0s\u001b[0m 39ms/step\n",
            "\u001b[1m313/313\u001b[0m \u001b[32m━━━━━━━━━━━━━━━━━━━━\u001b[0m\u001b[37m\u001b[0m \u001b[1m1s\u001b[0m 4ms/step\n",
            "\u001b[1m1/1\u001b[0m \u001b[32m━━━━━━━━━━━━━━━━━━━━\u001b[0m\u001b[37m\u001b[0m \u001b[1m0s\u001b[0m 40ms/step\n",
            "\u001b[1m313/313\u001b[0m \u001b[32m━━━━━━━━━━━━━━━━━━━━\u001b[0m\u001b[37m\u001b[0m \u001b[1m1s\u001b[0m 4ms/step\n",
            "\u001b[1m1/1\u001b[0m \u001b[32m━━━━━━━━━━━━━━━━━━━━\u001b[0m\u001b[37m\u001b[0m \u001b[1m0s\u001b[0m 56ms/step\n",
            "\u001b[1m313/313\u001b[0m \u001b[32m━━━━━━━━━━━━━━━━━━━━\u001b[0m\u001b[37m\u001b[0m \u001b[1m1s\u001b[0m 4ms/step\n",
            "\u001b[1m1/1\u001b[0m \u001b[32m━━━━━━━━━━━━━━━━━━━━\u001b[0m\u001b[37m\u001b[0m \u001b[1m0s\u001b[0m 38ms/step\n",
            "\u001b[1m313/313\u001b[0m \u001b[32m━━━━━━━━━━━━━━━━━━━━\u001b[0m\u001b[37m\u001b[0m \u001b[1m1s\u001b[0m 4ms/step\n",
            "\u001b[1m1/1\u001b[0m \u001b[32m━━━━━━━━━━━━━━━━━━━━\u001b[0m\u001b[37m\u001b[0m \u001b[1m0s\u001b[0m 39ms/step\n",
            "\u001b[1m313/313\u001b[0m \u001b[32m━━━━━━━━━━━━━━━━━━━━\u001b[0m\u001b[37m\u001b[0m \u001b[1m1s\u001b[0m 4ms/step\n",
            "\u001b[1m1/1\u001b[0m \u001b[32m━━━━━━━━━━━━━━━━━━━━\u001b[0m\u001b[37m\u001b[0m \u001b[1m0s\u001b[0m 57ms/step\n",
            "\u001b[1m313/313\u001b[0m \u001b[32m━━━━━━━━━━━━━━━━━━━━\u001b[0m\u001b[37m\u001b[0m \u001b[1m1s\u001b[0m 4ms/step\n",
            "\u001b[1m1/1\u001b[0m \u001b[32m━━━━━━━━━━━━━━━━━━━━\u001b[0m\u001b[37m\u001b[0m \u001b[1m0s\u001b[0m 40ms/step\n",
            "\u001b[1m313/313\u001b[0m \u001b[32m━━━━━━━━━━━━━━━━━━━━\u001b[0m\u001b[37m\u001b[0m \u001b[1m2s\u001b[0m 6ms/step\n",
            "\u001b[1m1/1\u001b[0m \u001b[32m━━━━━━━━━━━━━━━━━━━━\u001b[0m\u001b[37m\u001b[0m \u001b[1m0s\u001b[0m 39ms/step\n",
            "\u001b[1m313/313\u001b[0m \u001b[32m━━━━━━━━━━━━━━━━━━━━\u001b[0m\u001b[37m\u001b[0m \u001b[1m1s\u001b[0m 4ms/step\n",
            "\u001b[1m1/1\u001b[0m \u001b[32m━━━━━━━━━━━━━━━━━━━━\u001b[0m\u001b[37m\u001b[0m \u001b[1m0s\u001b[0m 45ms/step\n",
            "\u001b[1m313/313\u001b[0m \u001b[32m━━━━━━━━━━━━━━━━━━━━\u001b[0m\u001b[37m\u001b[0m \u001b[1m1s\u001b[0m 4ms/step\n",
            "\u001b[1m1/1\u001b[0m \u001b[32m━━━━━━━━━━━━━━━━━━━━\u001b[0m\u001b[37m\u001b[0m \u001b[1m0s\u001b[0m 38ms/step\n",
            "\u001b[1m313/313\u001b[0m \u001b[32m━━━━━━━━━━━━━━━━━━━━\u001b[0m\u001b[37m\u001b[0m \u001b[1m1s\u001b[0m 4ms/step\n",
            "\u001b[1m1/1\u001b[0m \u001b[32m━━━━━━━━━━━━━━━━━━━━\u001b[0m\u001b[37m\u001b[0m \u001b[1m0s\u001b[0m 40ms/step\n",
            "\u001b[1m313/313\u001b[0m \u001b[32m━━━━━━━━━━━━━━━━━━━━\u001b[0m\u001b[37m\u001b[0m \u001b[1m2s\u001b[0m 7ms/step\n",
            "\u001b[1m1/1\u001b[0m \u001b[32m━━━━━━━━━━━━━━━━━━━━\u001b[0m\u001b[37m\u001b[0m \u001b[1m0s\u001b[0m 39ms/step\n",
            "\u001b[1m313/313\u001b[0m \u001b[32m━━━━━━━━━━━━━━━━━━━━\u001b[0m\u001b[37m\u001b[0m \u001b[1m1s\u001b[0m 4ms/step\n",
            "\u001b[1m1/1\u001b[0m \u001b[32m━━━━━━━━━━━━━━━━━━━━\u001b[0m\u001b[37m\u001b[0m \u001b[1m0s\u001b[0m 37ms/step\n",
            "\u001b[1m313/313\u001b[0m \u001b[32m━━━━━━━━━━━━━━━━━━━━\u001b[0m\u001b[37m\u001b[0m \u001b[1m1s\u001b[0m 4ms/step\n",
            "\u001b[1m1/1\u001b[0m \u001b[32m━━━━━━━━━━━━━━━━━━━━\u001b[0m\u001b[37m\u001b[0m \u001b[1m0s\u001b[0m 36ms/step\n",
            "\u001b[1m313/313\u001b[0m \u001b[32m━━━━━━━━━━━━━━━━━━━━\u001b[0m\u001b[37m\u001b[0m \u001b[1m2s\u001b[0m 7ms/step\n",
            "\u001b[1m1/1\u001b[0m \u001b[32m━━━━━━━━━━━━━━━━━━━━\u001b[0m\u001b[37m\u001b[0m \u001b[1m0s\u001b[0m 38ms/step\n",
            "\u001b[1m313/313\u001b[0m \u001b[32m━━━━━━━━━━━━━━━━━━━━\u001b[0m\u001b[37m\u001b[0m \u001b[1m1s\u001b[0m 4ms/step\n",
            "\u001b[1m1/1\u001b[0m \u001b[32m━━━━━━━━━━━━━━━━━━━━\u001b[0m\u001b[37m\u001b[0m \u001b[1m0s\u001b[0m 38ms/step\n",
            "\u001b[1m313/313\u001b[0m \u001b[32m━━━━━━━━━━━━━━━━━━━━\u001b[0m\u001b[37m\u001b[0m \u001b[1m1s\u001b[0m 4ms/step\n",
            "\u001b[1m1/1\u001b[0m \u001b[32m━━━━━━━━━━━━━━━━━━━━\u001b[0m\u001b[37m\u001b[0m \u001b[1m0s\u001b[0m 38ms/step\n",
            "\u001b[1m313/313\u001b[0m \u001b[32m━━━━━━━━━━━━━━━━━━━━\u001b[0m\u001b[37m\u001b[0m \u001b[1m2s\u001b[0m 6ms/step\n",
            "\u001b[1m1/1\u001b[0m \u001b[32m━━━━━━━━━━━━━━━━━━━━\u001b[0m\u001b[37m\u001b[0m \u001b[1m0s\u001b[0m 41ms/step\n",
            "\u001b[1m313/313\u001b[0m \u001b[32m━━━━━━━━━━━━━━━━━━━━\u001b[0m\u001b[37m\u001b[0m \u001b[1m1s\u001b[0m 4ms/step\n",
            "\u001b[1m1/1\u001b[0m \u001b[32m━━━━━━━━━━━━━━━━━━━━\u001b[0m\u001b[37m\u001b[0m \u001b[1m0s\u001b[0m 53ms/step\n",
            "\u001b[1m313/313\u001b[0m \u001b[32m━━━━━━━━━━━━━━━━━━━━\u001b[0m\u001b[37m\u001b[0m \u001b[1m1s\u001b[0m 4ms/step\n",
            "\u001b[1m1/1\u001b[0m \u001b[32m━━━━━━━━━━━━━━━━━━━━\u001b[0m\u001b[37m\u001b[0m \u001b[1m0s\u001b[0m 60ms/step\n",
            "\u001b[1m313/313\u001b[0m \u001b[32m━━━━━━━━━━━━━━━━━━━━\u001b[0m\u001b[37m\u001b[0m \u001b[1m1s\u001b[0m 4ms/step\n",
            "\u001b[1m1/1\u001b[0m \u001b[32m━━━━━━━━━━━━━━━━━━━━\u001b[0m\u001b[37m\u001b[0m \u001b[1m0s\u001b[0m 38ms/step\n",
            "\u001b[1m313/313\u001b[0m \u001b[32m━━━━━━━━━━━━━━━━━━━━\u001b[0m\u001b[37m\u001b[0m \u001b[1m1s\u001b[0m 4ms/step\n",
            "\u001b[1m1/1\u001b[0m \u001b[32m━━━━━━━━━━━━━━━━━━━━\u001b[0m\u001b[37m\u001b[0m \u001b[1m0s\u001b[0m 42ms/step\n",
            "\u001b[1m313/313\u001b[0m \u001b[32m━━━━━━━━━━━━━━━━━━━━\u001b[0m\u001b[37m\u001b[0m \u001b[1m2s\u001b[0m 7ms/step\n",
            "\u001b[1m1/1\u001b[0m \u001b[32m━━━━━━━━━━━━━━━━━━━━\u001b[0m\u001b[37m\u001b[0m \u001b[1m0s\u001b[0m 38ms/step\n",
            "\u001b[1m313/313\u001b[0m \u001b[32m━━━━━━━━━━━━━━━━━━━━\u001b[0m\u001b[37m\u001b[0m \u001b[1m1s\u001b[0m 4ms/step\n",
            "\u001b[1m1/1\u001b[0m \u001b[32m━━━━━━━━━━━━━━━━━━━━\u001b[0m\u001b[37m\u001b[0m \u001b[1m0s\u001b[0m 40ms/step\n",
            "\u001b[1m313/313\u001b[0m \u001b[32m━━━━━━━━━━━━━━━━━━━━\u001b[0m\u001b[37m\u001b[0m \u001b[1m1s\u001b[0m 4ms/step\n",
            "\u001b[1m1/1\u001b[0m \u001b[32m━━━━━━━━━━━━━━━━━━━━\u001b[0m\u001b[37m\u001b[0m \u001b[1m0s\u001b[0m 38ms/step\n",
            "\u001b[1m313/313\u001b[0m \u001b[32m━━━━━━━━━━━━━━━━━━━━\u001b[0m\u001b[37m\u001b[0m \u001b[1m2s\u001b[0m 6ms/step\n",
            "\u001b[1m1/1\u001b[0m \u001b[32m━━━━━━━━━━━━━━━━━━━━\u001b[0m\u001b[37m\u001b[0m \u001b[1m0s\u001b[0m 39ms/step\n",
            "\u001b[1m313/313\u001b[0m \u001b[32m━━━━━━━━━━━━━━━━━━━━\u001b[0m\u001b[37m\u001b[0m \u001b[1m1s\u001b[0m 4ms/step\n",
            "\u001b[1m1/1\u001b[0m \u001b[32m━━━━━━━━━━━━━━━━━━━━\u001b[0m\u001b[37m\u001b[0m \u001b[1m0s\u001b[0m 40ms/step\n",
            "\u001b[1m313/313\u001b[0m \u001b[32m━━━━━━━━━━━━━━━━━━━━\u001b[0m\u001b[37m\u001b[0m \u001b[1m1s\u001b[0m 4ms/step\n",
            "\u001b[1m1/1\u001b[0m \u001b[32m━━━━━━━━━━━━━━━━━━━━\u001b[0m\u001b[37m\u001b[0m \u001b[1m0s\u001b[0m 41ms/step\n",
            "\u001b[1m313/313\u001b[0m \u001b[32m━━━━━━━━━━━━━━━━━━━━\u001b[0m\u001b[37m\u001b[0m \u001b[1m2s\u001b[0m 7ms/step\n",
            "\u001b[1m1/1\u001b[0m \u001b[32m━━━━━━━━━━━━━━━━━━━━\u001b[0m\u001b[37m\u001b[0m \u001b[1m0s\u001b[0m 38ms/step\n",
            "\u001b[1m313/313\u001b[0m \u001b[32m━━━━━━━━━━━━━━━━━━━━\u001b[0m\u001b[37m\u001b[0m \u001b[1m1s\u001b[0m 4ms/step\n",
            "\u001b[1m1/1\u001b[0m \u001b[32m━━━━━━━━━━━━━━━━━━━━\u001b[0m\u001b[37m\u001b[0m \u001b[1m0s\u001b[0m 38ms/step\n",
            "\u001b[1m313/313\u001b[0m \u001b[32m━━━━━━━━━━━━━━━━━━━━\u001b[0m\u001b[37m\u001b[0m \u001b[1m1s\u001b[0m 4ms/step\n",
            "\u001b[1m1/1\u001b[0m \u001b[32m━━━━━━━━━━━━━━━━━━━━\u001b[0m\u001b[37m\u001b[0m \u001b[1m0s\u001b[0m 42ms/step\n",
            "\u001b[1m313/313\u001b[0m \u001b[32m━━━━━━━━━━━━━━━━━━━━\u001b[0m\u001b[37m\u001b[0m \u001b[1m2s\u001b[0m 6ms/step\n",
            "\u001b[1m1/1\u001b[0m \u001b[32m━━━━━━━━━━━━━━━━━━━━\u001b[0m\u001b[37m\u001b[0m \u001b[1m0s\u001b[0m 50ms/step\n",
            "\u001b[1m313/313\u001b[0m \u001b[32m━━━━━━━━━━━━━━━━━━━━\u001b[0m\u001b[37m\u001b[0m \u001b[1m1s\u001b[0m 4ms/step\n",
            "\u001b[1m1/1\u001b[0m \u001b[32m━━━━━━━━━━━━━━━━━━━━\u001b[0m\u001b[37m\u001b[0m \u001b[1m0s\u001b[0m 39ms/step\n",
            "\u001b[1m313/313\u001b[0m \u001b[32m━━━━━━━━━━━━━━━━━━━━\u001b[0m\u001b[37m\u001b[0m \u001b[1m1s\u001b[0m 4ms/step\n",
            "\u001b[1m1/1\u001b[0m \u001b[32m━━━━━━━━━━━━━━━━━━━━\u001b[0m\u001b[37m\u001b[0m \u001b[1m0s\u001b[0m 57ms/step\n",
            "\u001b[1m313/313\u001b[0m \u001b[32m━━━━━━━━━━━━━━━━━━━━\u001b[0m\u001b[37m\u001b[0m \u001b[1m2s\u001b[0m 5ms/step\n",
            "\u001b[1m1/1\u001b[0m \u001b[32m━━━━━━━━━━━━━━━━━━━━\u001b[0m\u001b[37m\u001b[0m \u001b[1m0s\u001b[0m 47ms/step\n",
            "\u001b[1m313/313\u001b[0m \u001b[32m━━━━━━━━━━━━━━━━━━━━\u001b[0m\u001b[37m\u001b[0m \u001b[1m1s\u001b[0m 4ms/step\n",
            "\u001b[1m1/1\u001b[0m \u001b[32m━━━━━━━━━━━━━━━━━━━━\u001b[0m\u001b[37m\u001b[0m \u001b[1m0s\u001b[0m 49ms/step\n",
            "\u001b[1m313/313\u001b[0m \u001b[32m━━━━━━━━━━━━━━━━━━━━\u001b[0m\u001b[37m\u001b[0m \u001b[1m2s\u001b[0m 5ms/step\n",
            "\u001b[1m1/1\u001b[0m \u001b[32m━━━━━━━━━━━━━━━━━━━━\u001b[0m\u001b[37m\u001b[0m \u001b[1m0s\u001b[0m 41ms/step\n",
            "\u001b[1m313/313\u001b[0m \u001b[32m━━━━━━━━━━━━━━━━━━━━\u001b[0m\u001b[37m\u001b[0m \u001b[1m1s\u001b[0m 4ms/step\n",
            "\u001b[1m1/1\u001b[0m \u001b[32m━━━━━━━━━━━━━━━━━━━━\u001b[0m\u001b[37m\u001b[0m \u001b[1m0s\u001b[0m 43ms/step\n",
            "\u001b[1m313/313\u001b[0m \u001b[32m━━━━━━━━━━━━━━━━━━━━\u001b[0m\u001b[37m\u001b[0m \u001b[1m1s\u001b[0m 4ms/step\n",
            "\u001b[1m1/1\u001b[0m \u001b[32m━━━━━━━━━━━━━━━━━━━━\u001b[0m\u001b[37m\u001b[0m \u001b[1m0s\u001b[0m 40ms/step\n",
            "\u001b[1m313/313\u001b[0m \u001b[32m━━━━━━━━━━━━━━━━━━━━\u001b[0m\u001b[37m\u001b[0m \u001b[1m2s\u001b[0m 7ms/step\n",
            "\u001b[1m1/1\u001b[0m \u001b[32m━━━━━━━━━━━━━━━━━━━━\u001b[0m\u001b[37m\u001b[0m \u001b[1m0s\u001b[0m 40ms/step\n",
            "\u001b[1m313/313\u001b[0m \u001b[32m━━━━━━━━━━━━━━━━━━━━\u001b[0m\u001b[37m\u001b[0m \u001b[1m1s\u001b[0m 4ms/step\n",
            "\u001b[1m1/1\u001b[0m \u001b[32m━━━━━━━━━━━━━━━━━━━━\u001b[0m\u001b[37m\u001b[0m \u001b[1m0s\u001b[0m 39ms/step\n",
            "\u001b[1m313/313\u001b[0m \u001b[32m━━━━━━━━━━━━━━━━━━━━\u001b[0m\u001b[37m\u001b[0m \u001b[1m1s\u001b[0m 4ms/step\n",
            "\u001b[1m1/1\u001b[0m \u001b[32m━━━━━━━━━━━━━━━━━━━━\u001b[0m\u001b[37m\u001b[0m \u001b[1m0s\u001b[0m 40ms/step\n",
            "\u001b[1m313/313\u001b[0m \u001b[32m━━━━━━━━━━━━━━━━━━━━\u001b[0m\u001b[37m\u001b[0m \u001b[1m2s\u001b[0m 6ms/step\n",
            "\u001b[1m1/1\u001b[0m \u001b[32m━━━━━━━━━━━━━━━━━━━━\u001b[0m\u001b[37m\u001b[0m \u001b[1m0s\u001b[0m 45ms/step\n",
            "\u001b[1m313/313\u001b[0m \u001b[32m━━━━━━━━━━━━━━━━━━━━\u001b[0m\u001b[37m\u001b[0m \u001b[1m1s\u001b[0m 4ms/step\n",
            "\u001b[1m1/1\u001b[0m \u001b[32m━━━━━━━━━━━━━━━━━━━━\u001b[0m\u001b[37m\u001b[0m \u001b[1m0s\u001b[0m 41ms/step\n",
            "\u001b[1m313/313\u001b[0m \u001b[32m━━━━━━━━━━━━━━━━━━━━\u001b[0m\u001b[37m\u001b[0m \u001b[1m1s\u001b[0m 4ms/step\n",
            "\u001b[1m1/1\u001b[0m \u001b[32m━━━━━━━━━━━━━━━━━━━━\u001b[0m\u001b[37m\u001b[0m \u001b[1m0s\u001b[0m 42ms/step\n",
            "\u001b[1m313/313\u001b[0m \u001b[32m━━━━━━━━━━━━━━━━━━━━\u001b[0m\u001b[37m\u001b[0m \u001b[1m2s\u001b[0m 6ms/step\n",
            "\u001b[1m1/1\u001b[0m \u001b[32m━━━━━━━━━━━━━━━━━━━━\u001b[0m\u001b[37m\u001b[0m \u001b[1m0s\u001b[0m 39ms/step\n",
            "\u001b[1m313/313\u001b[0m \u001b[32m━━━━━━━━━━━━━━━━━━━━\u001b[0m\u001b[37m\u001b[0m \u001b[1m1s\u001b[0m 4ms/step\n",
            "\u001b[1m1/1\u001b[0m \u001b[32m━━━━━━━━━━━━━━━━━━━━\u001b[0m\u001b[37m\u001b[0m \u001b[1m0s\u001b[0m 39ms/step\n",
            "\u001b[1m313/313\u001b[0m \u001b[32m━━━━━━━━━━━━━━━━━━━━\u001b[0m\u001b[37m\u001b[0m \u001b[1m1s\u001b[0m 4ms/step\n",
            "\u001b[1m1/1\u001b[0m \u001b[32m━━━━━━━━━━━━━━━━━━━━\u001b[0m\u001b[37m\u001b[0m \u001b[1m0s\u001b[0m 66ms/step\n",
            "\u001b[1m313/313\u001b[0m \u001b[32m━━━━━━━━━━━━━━━━━━━━\u001b[0m\u001b[37m\u001b[0m \u001b[1m1s\u001b[0m 4ms/step\n",
            "\u001b[1m1/1\u001b[0m \u001b[32m━━━━━━━━━━━━━━━━━━━━\u001b[0m\u001b[37m\u001b[0m \u001b[1m0s\u001b[0m 43ms/step\n",
            "\u001b[1m313/313\u001b[0m \u001b[32m━━━━━━━━━━━━━━━━━━━━\u001b[0m\u001b[37m\u001b[0m \u001b[1m1s\u001b[0m 4ms/step\n",
            "\u001b[1m1/1\u001b[0m \u001b[32m━━━━━━━━━━━━━━━━━━━━\u001b[0m\u001b[37m\u001b[0m \u001b[1m0s\u001b[0m 40ms/step\n",
            "\u001b[1m313/313\u001b[0m \u001b[32m━━━━━━━━━━━━━━━━━━━━\u001b[0m\u001b[37m\u001b[0m \u001b[1m2s\u001b[0m 5ms/step\n",
            "\u001b[1m1/1\u001b[0m \u001b[32m━━━━━━━━━━━━━━━━━━━━\u001b[0m\u001b[37m\u001b[0m \u001b[1m0s\u001b[0m 71ms/step\n",
            "\u001b[1m313/313\u001b[0m \u001b[32m━━━━━━━━━━━━━━━━━━━━\u001b[0m\u001b[37m\u001b[0m \u001b[1m1s\u001b[0m 4ms/step\n",
            "\u001b[1m1/1\u001b[0m \u001b[32m━━━━━━━━━━━━━━━━━━━━\u001b[0m\u001b[37m\u001b[0m \u001b[1m0s\u001b[0m 38ms/step\n",
            "\u001b[1m313/313\u001b[0m \u001b[32m━━━━━━━━━━━━━━━━━━━━\u001b[0m\u001b[37m\u001b[0m \u001b[1m1s\u001b[0m 4ms/step\n",
            "\u001b[1m1/1\u001b[0m \u001b[32m━━━━━━━━━━━━━━━━━━━━\u001b[0m\u001b[37m\u001b[0m \u001b[1m0s\u001b[0m 43ms/step\n",
            "\u001b[1m313/313\u001b[0m \u001b[32m━━━━━━━━━━━━━━━━━━━━\u001b[0m\u001b[37m\u001b[0m \u001b[1m2s\u001b[0m 6ms/step\n",
            "\u001b[1m1/1\u001b[0m \u001b[32m━━━━━━━━━━━━━━━━━━━━\u001b[0m\u001b[37m\u001b[0m \u001b[1m0s\u001b[0m 43ms/step\n",
            "\u001b[1m313/313\u001b[0m \u001b[32m━━━━━━━━━━━━━━━━━━━━\u001b[0m\u001b[37m\u001b[0m \u001b[1m1s\u001b[0m 4ms/step\n",
            "\u001b[1m1/1\u001b[0m \u001b[32m━━━━━━━━━━━━━━━━━━━━\u001b[0m\u001b[37m\u001b[0m \u001b[1m0s\u001b[0m 44ms/step\n",
            "\u001b[1m313/313\u001b[0m \u001b[32m━━━━━━━━━━━━━━━━━━━━\u001b[0m\u001b[37m\u001b[0m \u001b[1m1s\u001b[0m 4ms/step\n",
            "\u001b[1m1/1\u001b[0m \u001b[32m━━━━━━━━━━━━━━━━━━━━\u001b[0m\u001b[37m\u001b[0m \u001b[1m0s\u001b[0m 38ms/step\n",
            "\u001b[1m313/313\u001b[0m \u001b[32m━━━━━━━━━━━━━━━━━━━━\u001b[0m\u001b[37m\u001b[0m \u001b[1m2s\u001b[0m 6ms/step\n",
            "\u001b[1m1/1\u001b[0m \u001b[32m━━━━━━━━━━━━━━━━━━━━\u001b[0m\u001b[37m\u001b[0m \u001b[1m0s\u001b[0m 42ms/step\n",
            "\u001b[1m313/313\u001b[0m \u001b[32m━━━━━━━━━━━━━━━━━━━━\u001b[0m\u001b[37m\u001b[0m \u001b[1m1s\u001b[0m 4ms/step\n",
            "\u001b[1m1/1\u001b[0m \u001b[32m━━━━━━━━━━━━━━━━━━━━\u001b[0m\u001b[37m\u001b[0m \u001b[1m0s\u001b[0m 40ms/step\n",
            "\u001b[1m313/313\u001b[0m \u001b[32m━━━━━━━━━━━━━━━━━━━━\u001b[0m\u001b[37m\u001b[0m \u001b[1m1s\u001b[0m 4ms/step\n",
            "\u001b[1m1/1\u001b[0m \u001b[32m━━━━━━━━━━━━━━━━━━━━\u001b[0m\u001b[37m\u001b[0m \u001b[1m0s\u001b[0m 47ms/step\n",
            "\u001b[1m313/313\u001b[0m \u001b[32m━━━━━━━━━━━━━━━━━━━━\u001b[0m\u001b[37m\u001b[0m \u001b[1m2s\u001b[0m 6ms/step\n",
            "\u001b[1m1/1\u001b[0m \u001b[32m━━━━━━━━━━━━━━━━━━━━\u001b[0m\u001b[37m\u001b[0m \u001b[1m0s\u001b[0m 40ms/step\n",
            "\u001b[1m313/313\u001b[0m \u001b[32m━━━━━━━━━━━━━━━━━━━━\u001b[0m\u001b[37m\u001b[0m \u001b[1m1s\u001b[0m 4ms/step\n",
            "\u001b[1m1/1\u001b[0m \u001b[32m━━━━━━━━━━━━━━━━━━━━\u001b[0m\u001b[37m\u001b[0m \u001b[1m0s\u001b[0m 41ms/step\n",
            "\u001b[1m313/313\u001b[0m \u001b[32m━━━━━━━━━━━━━━━━━━━━\u001b[0m\u001b[37m\u001b[0m \u001b[1m1s\u001b[0m 4ms/step\n"
          ]
        },
        {
          "output_type": "stream",
          "name": "stderr",
          "text": [
            "/tmp/ipython-input-3644573038.py:17: FutureWarning: The NumPy global RNG was seeded by calling `np.random.seed`. In a future version this function will no longer use the global RNG. Pass `rng` explicitly to opt-in to the new behaviour and silence this warning.\n",
            "  shap.summary_plot(shap_values, features=X_test_sample_num, feature_names=feature_names)\n",
            "/usr/local/lib/python3.12/dist-packages/shap/plots/_beeswarm.py:723: FutureWarning: The NumPy global RNG was seeded by calling `np.random.seed`. In a future version this function will no longer use the global RNG. Pass `rng` explicitly to opt-in to the new behaviour and silence this warning.\n",
            "  summary_legacy(\n"
          ]
        },
        {
          "output_type": "display_data",
          "data": {
            "text/plain": [
              "<Figure size 1150x660 with 1 Axes>"
            ],
            "image/png": "[encoded data removed]"
          },
          "metadata": {}
        }
      ],
      "source": [
        "import shap\n",
        "predict_nn = lambda x: nn_model.predict(x)\n",
        "\n",
        "# Selecting background samples\n",
        "background = X_train_scaled_num[np.random.choice(X_train_scaled_num.shape[0], 100, replace=False)]\n",
        "\n",
        "# Creating the KernelExplainer with the model's prediction function and background data\n",
        "explainer = shap.KernelExplainer(predict_nn, background)\n",
        "\n",
        "# Selecting a subset of test data for explanation\n",
        "X_test_sample_num = X_test_scaled_num[:100]\n",
        "\n",
        "# Computing SHAP values\n",
        "shap_values = explainer.shap_values(X_test_sample_num, nsamples=100)\n",
        "\n",
        "# Creating a new RNG object\n",
        "rng = np.random.default_rng(seed=23)\n",
        "\n",
        "# Pass this RNG explicitly to SHAP (if applicable)\n",
        "shap.summary_plot(shap_values, features=X_test_sample_num, feature_names=feature_names, rng=rng)\n"
      ]
    },
    {
      "cell_type": "markdown",
      "source": [
        "The SHAP model explains how each feature influences your quote. For example, a high 'risk premium' or 'face amount' might increase the predicted quote, while other features like age or unemployment rate could decrease it.\n",
        "\n",
        "The SHAP summary plot shows, across many sample quotes, which features are most influential overall. For instance in our case, the \"onehot_policy.ID_N10' is at the top with positive SHAP values and will drive the quote higher. Conversely, features with negative SHAP values reduce the quote prediction."
      ],
      "metadata": {
        "id": "VDuQX4nwLIbc"
      },
      "id": "VDuQX4nwLIbc"
    },
    {
      "cell_type": "markdown",
      "id": "aRttCOde6rMA",
      "metadata": {
        "id": "aRttCOde6rMA"
      },
      "source": [
        "# BIAS for the numerical problem\n",
        "\n",
        "In this section we shall define a variable called \"risk_category\" that takes values High or Low if variable \"proportion_risk_premium\" is higher or lower than the treshold = 0.0002 = 0.02%.\n",
        "\n",
        "Similarly, we shall define the variable \"risk_category_pred\" that does the same but on the basis of the values predicted by the Neural Network model.\n",
        "\n",
        "We shall also count the number of High and Low values for Females and Males for these two variables."
      ]
    },
    {
      "cell_type": "code",
      "execution_count": null,
      "id": "Catz0tFI4SXm",
      "metadata": {
        "id": "Catz0tFI4SXm",
        "outputId": "c3d7608f-a4ff-4731-8f7b-65d17d6f889e",
        "colab": {
          "base_uri": "https://localhost:8080/"
        }
      },
      "outputs": [
        {
          "output_type": "stream",
          "name": "stdout",
          "text": [
            "\u001b[1m172/172\u001b[0m \u001b[32m━━━━━━━━━━━━━━━━━━━━\u001b[0m\u001b[37m\u001b[0m \u001b[1m1s\u001b[0m 7ms/step\n",
            "Counts for true risk categories:\n",
            "risk_category  High   Low\n",
            "gender                   \n",
            "Female         6994  1451\n",
            "Male           9647  3829\n",
            "\n",
            "Counts for predicted risk categories:\n",
            "risk_category_pred  High\n",
            "gender                  \n",
            "Female              1876\n",
            "Male                3605\n"
          ]
        }
      ],
      "source": [
        "# Threshold = 0.0002 = 0.02%\n",
        "threshold = 0.0002\n",
        "\n",
        "df_num['risk_category'] = np.where(df_num['proportion_risk_premium'] > threshold, 'High', 'Low')\n",
        "predicted_proportions = nn_model.predict(X_test_scaled_num).flatten()\n",
        "\n",
        "# Creating 'risk_category_pred' based on predicted values\n",
        "df_num.loc[df_num.index[:len(predicted_proportions)], 'risk_category_pred'] = np.where(\n",
        "    predicted_proportions > threshold, 'High', 'Low')\n",
        "\n",
        "# Counting the number of High/Low for Females and Males for true categories\n",
        "counts_true = df_num.groupby(['gender', 'risk_category']).size().unstack(fill_value=0)\n",
        "\n",
        "# Counting the number of High/Low for Females and Males for predicted categories\n",
        "counts_pred = df_num.groupby(['gender', 'risk_category_pred']).size().unstack(fill_value=0)\n",
        "\n",
        "# Displaying the counts\n",
        "print(\"Counts for true risk categories:\")\n",
        "print(counts_true)\n",
        "\n",
        "print(\"\\nCounts for predicted risk categories:\")\n",
        "print(counts_pred)"
      ]
    },
    {
      "cell_type": "markdown",
      "source": [
        "The true risk labels show that approximately 83% of females (6,994 out of 8,445) and 72% of males (9,647 out of 13,476) are categorized as high risk. However, the model's predictions significantly underrepresent these high-risk groups, with only 1,876 females and 3,605 males predicted as high risk, way less than the actual counts.\n",
        "\n",
        "This indicates that the model is conservative in assigning high risk, especially for females, and tends to underestimate the number of individuals truly at high risk."
      ],
      "metadata": {
        "id": "NJLyS3rOJIfP"
      },
      "id": "NJLyS3rOJIfP"
    },
    {
      "cell_type": "markdown",
      "id": "L4N1ibk-gKT_",
      "metadata": {
        "id": "L4N1ibk-gKT_"
      },
      "source": [
        "Now we shall use the confusion_matrix to compare real and predicted values by counting: False positives, False negatives, Trues positives, True negatives."
      ]
    },
    {
      "cell_type": "code",
      "execution_count": null,
      "id": "S5pT4BN15p5H",
      "metadata": {
        "id": "S5pT4BN15p5H"
      },
      "outputs": [],
      "source": [
        "from sklearn.metrics import confusion_matrix\n",
        "cm = confusion_matrix(df_num['risk_category'], df_num['risk_category_pred'], labels=['High', 'Low'])\n",
        "\n",
        "# Extracting the counts\n",
        "TP = cm[0, 0]  # True Positives: predicted 'High' and actually 'High'\n",
        "FN = cm[0, 1]  # False Negatives: predicted 'Low' but actually 'High'\n",
        "FP = cm[1, 0]  # False Positives: predicted 'High' but actually 'Low'\n",
        "TN = cm[1, 1]  # True Negatives: predicted 'Low' and actually 'Low'\n",
        "\n",
        "# Printing results\n",
        "print(f\"Confusion Matrix:\\n{cm}\\n\")\n",
        "print(f\"True Positives (High correctly predicted): {TP}\")\n",
        "print(f\"False Negatives (High but predicted Low): {FN}\")\n",
        "print(f\"False Positives (Low but predicted High): {FP}\")\n",
        "print(f\"True Negatives (Low correctly predicted): {TN}\")\n"
      ]
    },
    {
      "cell_type": "markdown",
      "id": "_iXYHCM_HsNY",
      "metadata": {
        "id": "_iXYHCM_HsNY"
      },
      "source": [
        "## Metrics to detect possible bias on predicted values\n",
        "In this section we investigate possible bias on the basis of the metrics:\n",
        "\n",
        "\n",
        "*   Demographic Parity (no bias range: -0.1, 0.1)\n",
        "*   Equal Opportunity (no bias range: -0.1, 0.1)\n",
        "*   Average Odds (no bias range: -0.1, 0.1)\n",
        "*   Disparate Impact (no bias range: 0.8, 1.25)\n",
        "*   Theil Index (no bias range: 0, 0.15)"
      ]
    },
    {
      "cell_type": "code",
      "execution_count": null,
      "id": "dB_-avSf5nLM",
      "metadata": {
        "id": "dB_-avSf5nLM",
        "outputId": "8a98bf16-3448-43a6-b84e-2bb2383f9486",
        "colab": {
          "base_uri": "https://localhost:8080/"
        }
      },
      "outputs": [
        {
          "output_type": "stream",
          "name": "stdout",
          "text": [
            "Demographic Parity Difference: 0.284\n"
          ]
        }
      ],
      "source": [
        "# Calculating positive outcome rates per group\n",
        "groups = ['gender']\n",
        "\n",
        "results = []\n",
        "\n",
        "for group in groups:\n",
        "    for outcome in ['risk_category', 'risk_category_pred']:\n",
        "        group_rates = df_num.groupby(group)[outcome].value_counts(normalize=True).unstack()\n",
        "        results.append({\n",
        "            'group': group,\n",
        "            'outcome': outcome,\n",
        "            'rates': group_rates\n",
        "        })\n",
        "\n",
        "# Computing metrics\n",
        "def demographic_parity_diff(rates_group1, rates_group2):\n",
        "    return abs(rates_group1 - rates_group2).max()\n",
        "\n",
        "def equal_opportunity_diff(tpr_group1, tpr_group2):\n",
        "    return abs(tpr_group1 - tpr_group2).max()\n",
        "\n",
        "def average_odds_diff(tpr1, fpr1, tpr2, fpr2):\n",
        "    return 0.5 * (abs(tpr1 - tpr2) + abs(fpr1 - fpr2))\n",
        "\n",
        "def disparate_impact_ratio(rate_group1, rate_group2):\n",
        "    return rate_group1 / rate_group2 if rate_group2 != 0 else np.inf\n",
        "\n",
        "def theil_index(rates):\n",
        "    rates = np.array(rates)\n",
        "    rates = rates / rates.sum()\n",
        "    return np.sum(rates * np.log(rates / rates.mean()))\n",
        "\n",
        "# Calculating and comparing metrics between 2 groups\n",
        "group1_rates = results[0]['rates']['High']\n",
        "group2_rates = results[1]['rates']['High']\n",
        "\n",
        "dp_diff = demographic_parity_diff(group1_rates, group2_rates)\n",
        "\n",
        "print(f\"Demographic Parity Difference: {dp_diff:.3f}\")\n"
      ]
    },
    {
      "cell_type": "markdown",
      "source": [
        "What does this number mean?\n",
        "The value 0.284 (or approximately 28.4%) reflects the maximum absolute difference in positive outcome rates between groups.\n",
        "In your specific calculation, it compares the rate at which each group receives a positive label ('High') in your dataset.\n",
        "Interpreting the value:\n",
        "Close to 0: Perfect fairness — the positive outcome rate is nearly identical across groups.\n",
        "Values near 1: Highly disparate — one group has a much higher or lower positive rate than the other.\n",
        "Your value (0.284): Indicates a moderate disparity—about a 28.4% difference in positive rates between the groups."
      ],
      "metadata": {
        "id": "4cj_MjRoIahA"
      },
      "id": "4cj_MjRoIahA"
    },
    {
      "cell_type": "markdown",
      "id": "x44KYE-fPC8F",
      "metadata": {
        "id": "x44KYE-fPC8F"
      },
      "source": [
        "## Bias mitigation\n",
        "Here we proceed with:\n",
        "\n",
        "*   Preprocessing bias mitigation: using the Reweighing method;\n",
        "*   In-processing bias mitigation:  using the Meta Fair Classifier method;\n",
        "*   Postprocessing bias mitigation: using the Reject option classification."
      ]
    },
    {
      "cell_type": "code",
      "execution_count": null,
      "id": "x3S88Rug5n_r",
      "metadata": {
        "id": "x3S88Rug5n_r"
      },
      "outputs": [],
      "source": [
        "# Preprocessing: Reweighing method\n",
        "\n",
        "# Converting our dataset into AIF360 format\n",
        "dataset = BinaryLabelDataset(df=df, label_names=['risk_category'], protected_attribute_names=['gender'])\n",
        "\n",
        "# Applying Reweighing\n",
        "RW = Reweighing()\n",
        "dataset_transformed = RW.fit_transform(dataset)\n",
        "\n",
        "# Using the sample weights in training\n",
        "sample_weights = dataset_transformed.instance_weights\n",
        "\n",
        "# Now train your classifier with sample_weights\n",
        "clf_best = RandomForestClassifier(n_estimators=10, class_weight=None, random_state=23)\n",
        "clf_best.fit(X_train_num, y_train_num, sample_weight=sample_weights)\n"
      ]
    },
    {
      "cell_type": "code",
      "execution_count": null,
      "id": "9QXy7m2U9gIh",
      "metadata": {
        "id": "9QXy7m2U9gIh"
      },
      "outputs": [],
      "source": [
        "# In-processing: Meta Fair Classifier method\n",
        "#dataset = BinaryLabelDataset(df=df, label_names=['risk_category'], protected_attribute_names=['gender'])\n",
        "\n",
        "# Initializing MetaFairClassifier\n",
        "mfc = MetaFairClassifier()\n",
        "\n",
        "# Training the dataset\n",
        "mfc.fit(dataset)\n",
        "\n",
        "# Getting predictions\n",
        "pred_dataset = mfc.predict(dataset)\n",
        "\n",
        "# Converting predictions back to our data format\n",
        "pred_labels = pred_dataset.labels\n"
      ]
    },
    {
      "cell_type": "code",
      "execution_count": null,
      "id": "CRxLAFPz9i-x",
      "metadata": {
        "id": "CRxLAFPz9i-x"
      },
      "outputs": [],
      "source": [
        "# Post-Processing: Reject option classification\n",
        "\n",
        "dataset_pred = dataset.copy()\n",
        "dataset_pred.labels = y_pred\n",
        "\n",
        "# Initialize Reject Option Classification\n",
        "roc = RejectOptionClassification(\n",
        "    unprivileged_groups=[{'gender': 0}],\n",
        "    privileged_groups=[{'gender': 1}],\n",
        "    low_class_thresh=0.3,\n",
        "    high_class_thresh=0.7,\n",
        "    num_class_thresh=10,\n",
        "    num_ROC_margin=10\n",
        ")\n",
        "\n",
        "# Fitting and transforming\n",
        "dataset_roc = roc.fit_transform(dataset, dataset_pred)\n",
        "\n",
        "# Getting the final labels\n",
        "y_final = dataset_roc.labels\n",
        "\n",
        "# Preparing the predicted dataset\n",
        "dataset_pred = dataset.copy()\n",
        "dataset_pred.labels = clf_best.predict(X_test_cat)\n",
        "\n",
        "# Initializing RejectOptionClassification\n",
        "ROC = RejectOptionClassification(unprivileged_groups=[{'gender': 0}], privileged_groups=[{'gender': 1}])\n",
        "\n",
        "# Fitting and adjusting predictions\n",
        "roc_pred = ROC.fit_transform(dataset, dataset_pred)\n",
        "\n",
        "# Final predictions after postprocessing\n",
        "final_labels = roc_pred.labels\n"
      ]
    },
    {
      "cell_type": "markdown",
      "id": "46bebee8",
      "metadata": {
        "id": "46bebee8"
      },
      "source": [
        "Using Reweighing for pre-processing offers a quick and effective way to reduce bias with minimal computational cost, MetaFair in-processing balances fairness and accuracy during training but requires some tuning and Reject Option postprocessing provides a practical, fast method to enforce fairness constraints on predictions in large datasets.\n",
        "\n",
        "However, Reweighing only adjusts sample weights without directly altering the data distribution (hence not fully eliminating bias in highly imbalanced or complex datasets), MetaFair may slightly reduce overall model performance due to its careful hyperparameter tuning requirement and Reject Option postprocessing can lead to significant prediction rejections, lowering coverage and decision efficiency in addition to requiring careful threshold tuning to balance fairness gains with practical usability.\n"
      ]
    },
    {
      "cell_type": "code",
      "source": [
        "import requests\n",
        "import nbformat\n",
        "\n",
        "# Your raw GitHub URL\n",
        "url = 'https://raw.githubusercontent.com/Regis0323/Module-3-assignment/refs/heads/main/Rurangwa_Module_3_Assignment_.ipynb'\n",
        "\n",
        "# Fetch the notebook content\n",
        "response = requests.get(url)\n",
        "response.raise_for_status()\n",
        "\n",
        "# Load the notebook content, assuming version 4 (most common)\n",
        "nb = nbformat.reads(response.text, as_version=4)\n",
        "\n",
        "# Save the notebook locally\n",
        "with open('Downloaded_Notebook.ipynb', 'w') as f:\n",
        "    nbformat.write(nb, f)\n"
      ],
      "metadata": {
        "id": "Il6x9-1846Ny"
      },
      "id": "Il6x9-1846Ny",
      "execution_count": 53,
      "outputs": []
    }
  ],
  "metadata": {
    "colab": {
      "provenance": []
    },
    "kernelspec": {
      "display_name": "aibe_env",
      "language": "python",
      "name": "python3"
    },
    "language_info": {
      "codemirror_mode": {
        "name": "ipython",
        "version": 3
      },
      "file_extension": ".py",
      "mimetype": "text/x-python",
      "name": "python",
      "nbconvert_exporter": "python",
      "pygments_lexer": "ipython3",
      "version": "3.12.7"
    },
    "widgets": {
      "application/vnd.jupyter.widget-state+json": {
        "678e17a6a88a427bae735c6c405d2878": {
          "model_module": "@jupyter-widgets/controls",
          "model_name": "HBoxModel",
          "model_module_version": "1.5.0",
          "state": {
            "_dom_classes": [],
            "_model_module": "@jupyter-widgets/controls",
            "_model_module_version": "1.5.0",
            "_model_name": "HBoxModel",
            "_view_count": null,
            "_view_module": "@jupyter-widgets/controls",
            "_view_module_version": "1.5.0",
            "_view_name": "HBoxView",
            "box_style": "",
            "children": [
              "IPY_MODEL_90863fb9cd6e44ca8313d15de8f706f4",
              "IPY_MODEL_e9fbfd6a48e149909f57765a0ab3ff1c",
              "IPY_MODEL_9a0f5d5bd8604b6a94cd98f8eb19872c"
            ],
            "layout": "IPY_MODEL_6da68c7910934de192925d7b6e510580"
          }
        },
        "90863fb9cd6e44ca8313d15de8f706f4": {
          "model_module": "@jupyter-widgets/controls",
          "model_name": "HTMLModel",
          "model_module_version": "1.5.0",
          "state": {
            "_dom_classes": [],
            "_model_module": "@jupyter-widgets/controls",
            "_model_module_version": "1.5.0",
            "_model_name": "HTMLModel",
            "_view_count": null,
            "_view_module": "@jupyter-widgets/controls",
            "_view_module_version": "1.5.0",
            "_view_name": "HTMLView",
            "description": "",
            "description_tooltip": null,
            "layout": "IPY_MODEL_624fcdab13c64755ba02be8389aba55d",
            "placeholder": "​",
            "style": "IPY_MODEL_a02faf2172a247fc9c3e3b52ba95bccd",
            "value": "100%"
          }
        },
        "e9fbfd6a48e149909f57765a0ab3ff1c": {
          "model_module": "@jupyter-widgets/controls",
          "model_name": "FloatProgressModel",
          "model_module_version": "1.5.0",
          "state": {
            "_dom_classes": [],
            "_model_module": "@jupyter-widgets/controls",
            "_model_module_version": "1.5.0",
            "_model_name": "FloatProgressModel",
            "_view_count": null,
            "_view_module": "@jupyter-widgets/controls",
            "_view_module_version": "1.5.0",
            "_view_name": "ProgressView",
            "bar_style": "success",
            "description": "",
            "description_tooltip": null,
            "layout": "IPY_MODEL_1ed003563ae34bbca43e2a074ba9bb2f",
            "max": 100,
            "min": 0,
            "orientation": "horizontal",
            "style": "IPY_MODEL_81e7c6ba25b64409acfe581a65aa2d57",
            "value": 100
          }
        },
        "9a0f5d5bd8604b6a94cd98f8eb19872c": {
          "model_module": "@jupyter-widgets/controls",
          "model_name": "HTMLModel",
          "model_module_version": "1.5.0",
          "state": {
            "_dom_classes": [],
            "_model_module": "@jupyter-widgets/controls",
            "_model_module_version": "1.5.0",
            "_model_name": "HTMLModel",
            "_view_count": null,
            "_view_module": "@jupyter-widgets/controls",
            "_view_module_version": "1.5.0",
            "_view_name": "HTMLView",
            "description": "",
            "description_tooltip": null,
            "layout": "IPY_MODEL_0c4ab53a6deb48189ce719011c844eae",
            "placeholder": "​",
            "style": "IPY_MODEL_d30cbf30cefe433aaf2e1ddfe943d752",
            "value": " 100/100 [07:44&lt;00:00,  4.33s/it]"
          }
        },
        "6da68c7910934de192925d7b6e510580": {
          "model_module": "@jupyter-widgets/base",
          "model_name": "LayoutModel",
          "model_module_version": "1.2.0",
          "state": {
            "_model_module": "@jupyter-widgets/base",
            "_model_module_version": "1.2.0",
            "_model_name": "LayoutModel",
            "_view_count": null,
            "_view_module": "@jupyter-widgets/base",
            "_view_module_version": "1.2.0",
            "_view_name": "LayoutView",
            "align_content": null,
            "align_items": null,
            "align_self": null,
            "border": null,
            "bottom": null,
            "display": null,
            "flex": null,
            "flex_flow": null,
            "grid_area": null,
            "grid_auto_columns": null,
            "grid_auto_flow": null,
            "grid_auto_rows": null,
            "grid_column": null,
            "grid_gap": null,
            "grid_row": null,
            "grid_template_areas": null,
            "grid_template_columns": null,
            "grid_template_rows": null,
            "height": null,
            "justify_content": null,
            "justify_items": null,
            "left": null,
            "margin": null,
            "max_height": null,
            "max_width": null,
            "min_height": null,
            "min_width": null,
            "object_fit": null,
            "object_position": null,
            "order": null,
            "overflow": null,
            "overflow_x": null,
            "overflow_y": null,
            "padding": null,
            "right": null,
            "top": null,
            "visibility": null,
            "width": null
          }
        },
        "624fcdab13c64755ba02be8389aba55d": {
          "model_module": "@jupyter-widgets/base",
          "model_name": "LayoutModel",
          "model_module_version": "1.2.0",
          "state": {
            "_model_module": "@jupyter-widgets/base",
            "_model_module_version": "1.2.0",
            "_model_name": "LayoutModel",
            "_view_count": null,
            "_view_module": "@jupyter-widgets/base",
            "_view_module_version": "1.2.0",
            "_view_name": "LayoutView",
            "align_content": null,
            "align_items": null,
            "align_self": null,
            "border": null,
            "bottom": null,
            "display": null,
            "flex": null,
            "flex_flow": null,
            "grid_area": null,
            "grid_auto_columns": null,
            "grid_auto_flow": null,
            "grid_auto_rows": null,
            "grid_column": null,
            "grid_gap": null,
            "grid_row": null,
            "grid_template_areas": null,
            "grid_template_columns": null,
            "grid_template_rows": null,
            "height": null,
            "justify_content": null,
            "justify_items": null,
            "left": null,
            "margin": null,
            "max_height": null,
            "max_width": null,
            "min_height": null,
            "min_width": null,
            "object_fit": null,
            "object_position": null,
            "order": null,
            "overflow": null,
            "overflow_x": null,
            "overflow_y": null,
            "padding": null,
            "right": null,
            "top": null,
            "visibility": null,
            "width": null
          }
        },
        "a02faf2172a247fc9c3e3b52ba95bccd": {
          "model_module": "@jupyter-widgets/controls",
          "model_name": "DescriptionStyleModel",
          "model_module_version": "1.5.0",
          "state": {
            "_model_module": "@jupyter-widgets/controls",
            "_model_module_version": "1.5.0",
            "_model_name": "DescriptionStyleModel",
            "_view_count": null,
            "_view_module": "@jupyter-widgets/base",
            "_view_module_version": "1.2.0",
            "_view_name": "StyleView",
            "description_width": ""
          }
        },
        "1ed003563ae34bbca43e2a074ba9bb2f": {
          "model_module": "@jupyter-widgets/base",
          "model_name": "LayoutModel",
          "model_module_version": "1.2.0",
          "state": {
            "_model_module": "@jupyter-widgets/base",
            "_model_module_version": "1.2.0",
            "_model_name": "LayoutModel",
            "_view_count": null,
            "_view_module": "@jupyter-widgets/base",
            "_view_module_version": "1.2.0",
            "_view_name": "LayoutView",
            "align_content": null,
            "align_items": null,
            "align_self": null,
            "border": null,
            "bottom": null,
            "display": null,
            "flex": null,
            "flex_flow": null,
            "grid_area": null,
            "grid_auto_columns": null,
            "grid_auto_flow": null,
            "grid_auto_rows": null,
            "grid_column": null,
            "grid_gap": null,
            "grid_row": null,
            "grid_template_areas": null,
            "grid_template_columns": null,
            "grid_template_rows": null,
            "height": null,
            "justify_content": null,
            "justify_items": null,
            "left": null,
            "margin": null,
            "max_height": null,
            "max_width": null,
            "min_height": null,
            "min_width": null,
            "object_fit": null,
            "object_position": null,
            "order": null,
            "overflow": null,
            "overflow_x": null,
            "overflow_y": null,
            "padding": null,
            "right": null,
            "top": null,
            "visibility": null,
            "width": null
          }
        },
        "81e7c6ba25b64409acfe581a65aa2d57": {
          "model_module": "@jupyter-widgets/controls",
          "model_name": "ProgressStyleModel",
          "model_module_version": "1.5.0",
          "state": {
            "_model_module": "@jupyter-widgets/controls",
            "_model_module_version": "1.5.0",
            "_model_name": "ProgressStyleModel",
            "_view_count": null,
            "_view_module": "@jupyter-widgets/base",
            "_view_module_version": "1.2.0",
            "_view_name": "StyleView",
            "bar_color": null,
            "description_width": ""
          }
        },
        "0c4ab53a6deb48189ce719011c844eae": {
          "model_module": "@jupyter-widgets/base",
          "model_name": "LayoutModel",
          "model_module_version": "1.2.0",
          "state": {
            "_model_module": "@jupyter-widgets/base",
            "_model_module_version": "1.2.0",
            "_model_name": "LayoutModel",
            "_view_count": null,
            "_view_module": "@jupyter-widgets/base",
            "_view_module_version": "1.2.0",
            "_view_name": "LayoutView",
            "align_content": null,
            "align_items": null,
            "align_self": null,
            "border": null,
            "bottom": null,
            "display": null,
            "flex": null,
            "flex_flow": null,
            "grid_area": null,
            "grid_auto_columns": null,
            "grid_auto_flow": null,
            "grid_auto_rows": null,
            "grid_column": null,
            "grid_gap": null,
            "grid_row": null,
            "grid_template_areas": null,
            "grid_template_columns": null,
            "grid_template_rows": null,
            "height": null,
            "justify_content": null,
            "justify_items": null,
            "left": null,
            "margin": null,
            "max_height": null,
            "max_width": null,
            "min_height": null,
            "min_width": null,
            "object_fit": null,
            "object_position": null,
            "order": null,
            "overflow": null,
            "overflow_x": null,
            "overflow_y": null,
            "padding": null,
            "right": null,
            "top": null,
            "visibility": null,
            "width": null
          }
        },
        "d30cbf30cefe433aaf2e1ddfe943d752": {
          "model_module": "@jupyter-widgets/controls",
          "model_name": "DescriptionStyleModel",
          "model_module_version": "1.5.0",
          "state": {
            "_model_module": "@jupyter-widgets/controls",
            "_model_module_version": "1.5.0",
            "_model_name": "DescriptionStyleModel",
            "_view_count": null,
            "_view_module": "@jupyter-widgets/base",
            "_view_module_version": "1.2.0",
            "_view_name": "StyleView",
            "description_width": ""
          }
        }
      }
    }
  },
  "nbformat": 4,
  "nbformat_minor": 5
}
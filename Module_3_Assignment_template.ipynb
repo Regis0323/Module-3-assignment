{
  "cells": [
    {
      "cell_type": "markdown",
      "id": "516ee1d7-d4a0-4378-9a73-ff977fe061e6",
      "metadata": {
        "id": "516ee1d7-d4a0-4378-9a73-ff977fe061e6"
      },
      "source": [
        "# Assignment module 3\n",
        "\n",
        "\n",
        "Some code sections are proposed below. Please, complete and adapt each section according to the requirements."
      ]
    },
    {
      "cell_type": "markdown",
      "id": "hrqBc6jEE3Uv",
      "metadata": {
        "id": "hrqBc6jEE3Uv"
      },
      "source": [
        "<ins>**Dataset**</ins>\n",
        "1. [Unit Linked](https://dutangc.github.io/CASdatasets/reference/eusavingsurrender.html)"
      ]
    },
    {
      "cell_type": "markdown",
      "id": "EUzqdV0xOgZZ",
      "metadata": {
        "id": "EUzqdV0xOgZZ"
      },
      "source": [
        "## Importing packages <a name=\"Importing_packages\"></a>\n",
        "\n",
        "Execute the following pip install and imports in your command prompt for the environment you are using. Please, try to rely on these as much as possible, as they should be sufficient to carry out the exercise. However, you can choose other packages. In such case, please explain your choice.\n"
      ]
    },
    {
      "cell_type": "code",
      "execution_count": null,
      "id": "YuP6mnV0_mJi",
      "metadata": {
        "id": "YuP6mnV0_mJi"
      },
      "outputs": [],
      "source": [
        "## Perform these pip installs in the command prompt, with your python kernel activated\n",
        "pip install shap\n",
        "pip install tensorflow\n",
        "pip install shapicant\n",
        "pip install scikeras\n",
        "pip install mlflow\n",
        "pip install boruta\n",
        "pip install pandas scikit-learn deap\n",
        "pip install aif360"
      ]
    },
    {
      "cell_type": "code",
      "execution_count": null,
      "id": "9b658fa8-eb1f-42b4-8178-42687d0f6f95",
      "metadata": {
        "id": "9b658fa8-eb1f-42b4-8178-42687d0f6f95",
        "tags": []
      },
      "outputs": [],
      "source": [
        "# 1. SETUP: load libraries & data\n",
        "import numpy as np\n",
        "import pandas as pd\n",
        "import matplotlib.pyplot as plt\n",
        "\n",
        "# Data preprocesing and models\n",
        "from sklearn.model_selection import train_test_split, cross_val_score\n",
        "from sklearn.linear_model import LassoCV\n",
        "from sklearn.ensemble import RandomForestRegressor\n",
        "from sklearn.ensemble import RandomForestClassifier\n",
        "from sklearn.compose import ColumnTransformer\n",
        "from sklearn.preprocessing import StandardScaler, OneHotEncoder\n",
        "from sklearn.pipeline import Pipeline\n",
        "from sklearn.preprocessing import LabelEncoder\n",
        "import tensorflow as tf\n",
        "from tensorflow.keras import layers, models\n",
        "\n",
        "# MLFlow\n",
        "import mlflow\n",
        "import cloudpickle\n",
        "from evidently import Dataset\n",
        "from evidently import DataDefinition\n",
        "from evidently import Report\n",
        "from evidently.presets import DataDriftPreset, DataSummaryPreset\n",
        "\n",
        "# Feature selection and explainability of the model\n",
        "from mlxtend.feature_selection import SequentialFeatureSelector\n",
        "from sklearn.linear_model import LinearRegression\n",
        "from sklearn.inspection import permutation_importance\n",
        "from boruta import BorutaPy\n",
        "from deap import base, creator, tools, algorithms\n",
        "import random\n",
        "\n",
        "# Bias mitigation\n",
        "from aif360.datasets import StandardDataset, BinaryLabelDataset\n",
        "from aif360.metrics import BinaryLabelDatasetMetric, ClassificationMetric\n",
        "from aif360.algorithms.preprocessing.optim_preproc_helpers.opt_tools import OptTools\n",
        "from aif360.algorithms.preprocessing import Reweighing, OptimPreproc\n",
        "from aif360.algorithms.inprocessing import MetaFairClassifier, AdversarialDebiasing\n",
        "from aif360.algorithms.postprocessing import RejectOptionClassification, EqOddsPostprocessing\n",
        "\n"
      ]
    },
    {
      "cell_type": "markdown",
      "id": "2W8hGUD_Pb7q",
      "metadata": {
        "id": "2W8hGUD_Pb7q"
      },
      "source": [
        "# Data exploration and preoprocessing\n"
      ]
    },
    {
      "cell_type": "code",
      "execution_count": null,
      "id": "3f6e45e6-3c45-4ceb-8db7-130c4a5f9d2d",
      "metadata": {
        "id": "3f6e45e6-3c45-4ceb-8db7-130c4a5f9d2d"
      },
      "outputs": [],
      "source": [
        "# Load\n",
        "data_path = \"eusavingULnoPS.csv\"\n",
        "df = pd.read_csv(data_path)"
      ]
    },
    {
      "cell_type": "markdown",
      "id": "k9dGsrG-axlE",
      "metadata": {
        "id": "k9dGsrG-axlE"
      },
      "source": [
        "Inspect the dataset. Identify and handle missing values if they exist."
      ]
    },
    {
      "cell_type": "code",
      "execution_count": null,
      "id": "r24UfL7G7M7e",
      "metadata": {
        "id": "r24UfL7G7M7e"
      },
      "outputs": [],
      "source": []
    },
    {
      "cell_type": "markdown",
      "id": "099I_dd4bD61",
      "metadata": {
        "id": "099I_dd4bD61"
      },
      "source": [
        "Create two datasets (df_cat and df_num), one for each of the following two dependent variables:\n",
        "*   a categorical one: lapse.reason;\n",
        "*   a numeric one: create the numerical variable that represents the proportion of risk premium over total premium: proportion_risk_premium = risk.premium / (risk.premium+saving.premium)"
      ]
    },
    {
      "cell_type": "code",
      "execution_count": null,
      "id": "xlLmk_Rsx7vc",
      "metadata": {
        "id": "xlLmk_Rsx7vc"
      },
      "outputs": [],
      "source": [
        "df_cat =\n",
        "df_num =\n",
        "\n",
        "# Creation of numerical dependent variable\n",
        "df_num['proportion_risk_premium'] = df_num['risk.premium']/(df_num['risk.premium'] + df_num['saving.premium'])"
      ]
    },
    {
      "cell_type": "markdown",
      "id": "XZ5Mhh5DbJ9c",
      "metadata": {
        "id": "XZ5Mhh5DbJ9c"
      },
      "source": [
        "## Data preprocessing\n",
        "For both the numerical and categorical problems, define the X (X_cat and X_num) and y datasets, convert categorical variables to a suitable format (label encoding or one-hot encoding) and handle date variables.\n",
        "\n",
        "Split the datasets into training and test sets.\n",
        "\n"
      ]
    },
    {
      "cell_type": "code",
      "execution_count": null,
      "id": "kxMkhp8KQ01J",
      "metadata": {
        "id": "kxMkhp8KQ01J"
      },
      "outputs": [],
      "source": [
        "# Define X and y (wisely select variables for the X datasets)\n",
        "y_num =\n",
        "y_cat =\n",
        "X_num =\n",
        "X_cat =\n",
        "\n",
        "# Label encoding or one-hot encoding\n",
        "\n",
        "\n",
        "# Example on how to handle date variables\n",
        "df_cat['termination.date'] = pd.to_datetime(df_cat['termination.date'], errors='coerce')\n",
        "# Create new numeric features from dates\n",
        "df_cat['termination.date.yr'] = df_cat['termination.date'].dt.year\n",
        "df_cat['termination.date.month'] = df_cat['termination.date'].dt.month\n",
        "\n",
        "# Split test and train datasets\n"
      ]
    },
    {
      "cell_type": "markdown",
      "id": "XI885gZbJ3Sr",
      "metadata": {
        "id": "XI885gZbJ3Sr"
      },
      "source": [
        "## Development of model for categorical variable: RandomForest\n",
        "\n",
        "For the categorical dependent variable \"lapse.reason\", develop a Random Forest algorithm."
      ]
    },
    {
      "cell_type": "code",
      "execution_count": null,
      "id": "ueOE244D57fa",
      "metadata": {
        "id": "ueOE244D57fa"
      },
      "outputs": [],
      "source": []
    },
    {
      "cell_type": "markdown",
      "id": "Bc1ljHyeKQCj",
      "metadata": {
        "id": "Bc1ljHyeKQCj"
      },
      "source": [
        "## Development of model for numerical variable (proportion): Sequential Dense NN\n",
        "\n",
        "\n",
        "For the numerical variable \"proportion_risk_premium\", develop a Sequential Dense Neural Network."
      ]
    },
    {
      "cell_type": "code",
      "execution_count": null,
      "id": "4_-XSP6_58ah",
      "metadata": {
        "id": "4_-XSP6_58ah"
      },
      "outputs": [],
      "source": []
    },
    {
      "cell_type": "markdown",
      "id": "8RSD2zs9TRUh",
      "metadata": {
        "id": "8RSD2zs9TRUh"
      },
      "source": [
        "# Variable selection"
      ]
    },
    {
      "cell_type": "markdown",
      "id": "FlXxBhvuFhfS",
      "metadata": {
        "id": "FlXxBhvuFhfS"
      },
      "source": [
        "## Categorical problem, feature selection\n",
        "\n",
        "\n",
        "For the categorical dependent variable \"lapse.reason\", perform Boruta feature selection using (from boruta) BortutaPy."
      ]
    },
    {
      "cell_type": "code",
      "execution_count": null,
      "id": "VlXLu31W5snq",
      "metadata": {
        "id": "VlXLu31W5snq"
      },
      "outputs": [],
      "source": []
    },
    {
      "cell_type": "markdown",
      "id": "HMDLAYd75uph",
      "metadata": {
        "id": "HMDLAYd75uph"
      },
      "source": [
        "For the categorical dependent variable \"lapse.reason\", perform Genetic Algorith feature selection using (from deap) base, creator, tools, algorithms repspectively."
      ]
    },
    {
      "cell_type": "code",
      "execution_count": null,
      "id": "sY9sH1S95zke",
      "metadata": {
        "id": "sY9sH1S95zke"
      },
      "outputs": [],
      "source": []
    },
    {
      "cell_type": "markdown",
      "id": "bw6yKyYf8dx6",
      "metadata": {
        "id": "bw6yKyYf8dx6"
      },
      "source": [
        "Optional: Use MLFLow to show you know how to use good development and tracking practices while training the model."
      ]
    },
    {
      "cell_type": "code",
      "execution_count": null,
      "id": "prkWG2CWAPOx",
      "metadata": {
        "id": "prkWG2CWAPOx"
      },
      "outputs": [],
      "source": [
        "# Setup MLFlow\n",
        "\n",
        "host =\n",
        "port =\n",
        "mlflow.set_tracking_uri(uri=f\"http://{host}:{port}\")\n"
      ]
    },
    {
      "cell_type": "code",
      "execution_count": null,
      "id": "D9G0By67EGZj",
      "metadata": {
        "id": "D9G0By67EGZj"
      },
      "outputs": [],
      "source": [
        "# Model packaging\n"
      ]
    },
    {
      "cell_type": "code",
      "execution_count": null,
      "id": "sTH_5RwoEHr7",
      "metadata": {
        "id": "sTH_5RwoEHr7"
      },
      "outputs": [],
      "source": [
        "# Model registry\n"
      ]
    },
    {
      "cell_type": "code",
      "execution_count": null,
      "id": "JhpSOrm4EJiL",
      "metadata": {
        "id": "JhpSOrm4EJiL"
      },
      "outputs": [],
      "source": [
        "# Model serving\n"
      ]
    },
    {
      "cell_type": "code",
      "execution_count": null,
      "id": "8fkLNd6bEKxM",
      "metadata": {
        "id": "8fkLNd6bEKxM"
      },
      "outputs": [],
      "source": [
        "# Model monitoring\n"
      ]
    },
    {
      "cell_type": "markdown",
      "id": "70jdGydFFon-",
      "metadata": {
        "id": "70jdGydFFon-"
      },
      "source": [
        "## Numerical problem, feature selection\n",
        "\n",
        "For the numerical variable \"proportion_risk_premium\", perform a forward and a backward selection on explanatory variables.\n",
        "\n",
        "\n"
      ]
    },
    {
      "cell_type": "code",
      "execution_count": null,
      "id": "lltiuzAZyXWt",
      "metadata": {
        "id": "lltiuzAZyXWt"
      },
      "outputs": [],
      "source": []
    },
    {
      "cell_type": "markdown",
      "id": "BJlJAwZQ6_pO",
      "metadata": {
        "id": "BJlJAwZQ6_pO"
      },
      "source": [
        "For the numerical variable \"proportion_risk_premium\", apply Lasso using LassoCV."
      ]
    },
    {
      "cell_type": "code",
      "execution_count": null,
      "id": "IOfqUffz7ATL",
      "metadata": {
        "id": "IOfqUffz7ATL"
      },
      "outputs": [],
      "source": []
    },
    {
      "cell_type": "markdown",
      "id": "btavk4CC8gY7",
      "metadata": {
        "id": "btavk4CC8gY7"
      },
      "source": [
        "Optional: Use MLFLow to show you know how to use good development and tracking practices while training the model."
      ]
    },
    {
      "cell_type": "code",
      "execution_count": null,
      "id": "pAlEDL6KETnH",
      "metadata": {
        "id": "pAlEDL6KETnH"
      },
      "outputs": [],
      "source": [
        "# Setup MLFlow\n",
        "\n",
        "host =\n",
        "port =\n",
        "mlflow.set_tracking_uri(uri=f\"http://{host}:{port}\")\n"
      ]
    },
    {
      "cell_type": "code",
      "execution_count": null,
      "id": "2syae_30ETnH",
      "metadata": {
        "id": "2syae_30ETnH"
      },
      "outputs": [],
      "source": [
        "# Model packaging\n"
      ]
    },
    {
      "cell_type": "code",
      "execution_count": null,
      "id": "V7vIRIbPETnI",
      "metadata": {
        "id": "V7vIRIbPETnI"
      },
      "outputs": [],
      "source": [
        "# Model registry\n"
      ]
    },
    {
      "cell_type": "code",
      "execution_count": null,
      "id": "8iIYeY_QETnI",
      "metadata": {
        "id": "8iIYeY_QETnI"
      },
      "outputs": [],
      "source": [
        "# Model serving\n"
      ]
    },
    {
      "cell_type": "code",
      "execution_count": null,
      "id": "76Zydou-ETnI",
      "metadata": {
        "id": "76Zydou-ETnI"
      },
      "outputs": [],
      "source": [
        "# Model monitoring\n"
      ]
    },
    {
      "cell_type": "markdown",
      "id": "TDgCQsykrs_5",
      "metadata": {
        "id": "TDgCQsykrs_5"
      },
      "source": [
        "# Explainability of the model"
      ]
    },
    {
      "cell_type": "markdown",
      "id": "e_UZkcj2rw89",
      "metadata": {
        "id": "e_UZkcj2rw89"
      },
      "source": [
        "## Categorical problem\n",
        "\n",
        "Explain the RandomForest model to a client, that wants to know why their quote is so high by permutation feature selection using permutation_importance."
      ]
    },
    {
      "cell_type": "code",
      "execution_count": null,
      "id": "918Qi51_5reD",
      "metadata": {
        "id": "918Qi51_5reD"
      },
      "outputs": [],
      "source": []
    },
    {
      "cell_type": "markdown",
      "id": "6ogt_2Kv9GF6",
      "metadata": {
        "id": "6ogt_2Kv9GF6"
      },
      "source": [
        "Choose another method of your preference to explain the RandomForest model."
      ]
    },
    {
      "cell_type": "code",
      "execution_count": null,
      "id": "Jxe13YHE9LCB",
      "metadata": {
        "id": "Jxe13YHE9LCB"
      },
      "outputs": [],
      "source": []
    },
    {
      "cell_type": "markdown",
      "id": "eS87my6hx_3N",
      "metadata": {
        "id": "eS87my6hx_3N"
      },
      "source": [
        "## Numerical problem"
      ]
    },
    {
      "cell_type": "markdown",
      "id": "Eh90ACcpr4XT",
      "metadata": {
        "id": "Eh90ACcpr4XT"
      },
      "source": [
        "Explain the Neural Netwok model to a client, that wants to know why their quote is so high using Shapley values."
      ]
    },
    {
      "cell_type": "code",
      "execution_count": null,
      "id": "JnoUoZFb5rDv",
      "metadata": {
        "id": "JnoUoZFb5rDv"
      },
      "outputs": [],
      "source": []
    },
    {
      "cell_type": "markdown",
      "id": "CIBT43CY9Rza",
      "metadata": {
        "id": "CIBT43CY9Rza"
      },
      "source": [
        "Choose another method of your preference to explain the NN model."
      ]
    },
    {
      "cell_type": "code",
      "execution_count": null,
      "id": "a3BMxP6m9Sij",
      "metadata": {
        "id": "a3BMxP6m9Sij"
      },
      "outputs": [],
      "source": []
    },
    {
      "cell_type": "markdown",
      "id": "aRttCOde6rMA",
      "metadata": {
        "id": "aRttCOde6rMA"
      },
      "source": [
        "# BIAS for the numerical problem\n",
        "\n",
        "After having set a threshold = 0.0002 = 0.02%, define a variable called \"risk_category\" that takes values High or Low if variable \"proportion_risk_premium\" is higher or lower than the treshold.\n",
        "\n",
        "Similarly, define variable \"risk_category_pred\" that does the same but on the basis of the values predicted by the Neural Network model. For these two variables, count the number of High and Low values for Females and Males."
      ]
    },
    {
      "cell_type": "code",
      "execution_count": null,
      "id": "Catz0tFI4SXm",
      "metadata": {
        "id": "Catz0tFI4SXm"
      },
      "outputs": [],
      "source": [
        "# Threshold = 0.0002 = 0.02%\n",
        "threshold = 0.0002\n",
        "\n",
        "df_num['risk_category'] = np.where(df_num['proportion_risk_premium'] > threshold, 'High', 'Low')\n",
        "df_num['risk_category_pred'] ="
      ]
    },
    {
      "cell_type": "markdown",
      "id": "L4N1ibk-gKT_",
      "metadata": {
        "id": "L4N1ibk-gKT_"
      },
      "source": [
        "Using confusion_matrix, compare real and predicted values by counting False positives, False negatives, Trues positives, True negatives."
      ]
    },
    {
      "cell_type": "code",
      "execution_count": null,
      "id": "S5pT4BN15p5H",
      "metadata": {
        "id": "S5pT4BN15p5H"
      },
      "outputs": [],
      "source": []
    },
    {
      "cell_type": "markdown",
      "id": "_iXYHCM_HsNY",
      "metadata": {
        "id": "_iXYHCM_HsNY"
      },
      "source": [
        "## Metrics to detect possible bias on predicted values\n",
        "Investigate possible bias on the basis of the metrics:\n",
        "\n",
        "\n",
        "*   Demographic Parity (no bias range: -0.1, 0.1)\n",
        "*   Equal Opportunity (no bias range: -0.1, 0.1)\n",
        "*   Average Odds (no bias range: -0.1, 0.1)\n",
        "*   Disparate Impact (no bias range: 0.8, 1.25)\n",
        "*   Theil Index (no bias range: 0, 0.15)"
      ]
    },
    {
      "cell_type": "code",
      "execution_count": null,
      "id": "dB_-avSf5nLM",
      "metadata": {
        "id": "dB_-avSf5nLM"
      },
      "outputs": [],
      "source": []
    },
    {
      "cell_type": "markdown",
      "id": "x44KYE-fPC8F",
      "metadata": {
        "id": "x44KYE-fPC8F"
      },
      "source": [
        "## Bias mitigation\n",
        "Proceed with:\n",
        "\n",
        "*   Preprocessing bias mitigation: choose the method, between reweighing and optimized preprocessing, that leads to a greater bias reduction\n",
        "*   In-processing bias mitigation:  choose the method, between Meta Fair\n",
        "*   Postprocessing bias mitigation: Reject option classification and equalized Odds\n",
        "\n",
        "\n"
      ]
    },
    {
      "cell_type": "code",
      "execution_count": null,
      "id": "x3S88Rug5n_r",
      "metadata": {
        "id": "x3S88Rug5n_r"
      },
      "outputs": [],
      "source": [
        "# Preprocessing\n"
      ]
    },
    {
      "cell_type": "code",
      "execution_count": null,
      "id": "9QXy7m2U9gIh",
      "metadata": {
        "id": "9QXy7m2U9gIh"
      },
      "outputs": [],
      "source": [
        "# In-processing\n"
      ]
    },
    {
      "cell_type": "code",
      "execution_count": null,
      "id": "CRxLAFPz9i-x",
      "metadata": {
        "id": "CRxLAFPz9i-x"
      },
      "outputs": [],
      "source": [
        "# Post-Processing\n"
      ]
    },
    {
      "cell_type": "markdown",
      "id": "mpjC2V4h9mwp",
      "metadata": {
        "id": "mpjC2V4h9mwp"
      },
      "source": [
        "Compare pros and cons of chosen methods:\n",
        "\n",
        "\n"
      ]
    },
    {
      "cell_type": "markdown",
      "id": "46bebee8",
      "metadata": {},
      "source": [
        "Write down in text what you think the pros and cons are of the methods above"
      ]
    }
  ],
  "metadata": {
    "colab": {
      "provenance": []
    },
    "kernelspec": {
      "display_name": "aibe_env",
      "language": "python",
      "name": "python3"
    },
    "language_info": {
      "codemirror_mode": {
        "name": "ipython",
        "version": 3
      },
      "file_extension": ".py",
      "mimetype": "text/x-python",
      "name": "python",
      "nbconvert_exporter": "python",
      "pygments_lexer": "ipython3",
      "version": "3.12.7"
    }
  },
  "nbformat": 4,
  "nbformat_minor": 5
}
